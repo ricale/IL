{
 "cells": [
  {
   "cell_type": "markdown",
   "metadata": {},
   "source": [
    "# 01 수학 기호\n",
    "## 01.01 그리스 문자"
   ]
  },
  {
   "cell_type": "markdown",
   "metadata": {},
   "source": [
    "대문자 | 소문자 | 이름 | 발음 | 설명\n",
    "-|-|-|-|-\n",
    "𝐴 \t| 𝛼 |\talpha | \t알파 |\t영어 a와 다르므로 주의\n",
    "𝐵\t| 𝛽 |\tbeta | \t베타 |\t영어 b와 다르므로 주의\n",
    "Γ\t| 𝛾 |\tgamma | \t감마 |\t영어 r과 다르므로 주의\n",
    "Δ\t| 𝛿 |\tdelta | \t델타 |\t\n",
    "𝐸\t| 𝜖 |\tepsilon | \t엡실론 |\t영어 e와 다르므로 주의\n",
    "𝑍\t| 𝜁 |\tzeta | \t제타 |\t\n",
    "𝐻\t| 𝜂 |\teta | \t에타 |\t\n",
    "Θ\t| 𝜃 |\ttheta | \t쎄타 |\t\n",
    "𝐾\t| 𝜅 |\tkappa | \t카파 |\t영어 k와 다르므로 주의\n",
    "Λ\t| 𝜆 |\tlambda | \t람다 |\t\n",
    "𝑀\t| 𝜇 |\tmu | \t뮤 |\t\n",
    "𝑁\t| 𝜈 |\tnu | \t누 |\t영어 v와 다르므로 주의\n",
    "Ξ\t| 𝜉 |\txi | \t크싸이 |\t\n",
    "Π\t| 𝜋 |\tpi | \t파이 |\t\n",
    "𝑃\t| 𝜌 |\trho | \t로 |\t영어 p와 다르므로 주의\n",
    "Σ\t| 𝜎 |\tsigma | \t시그마 |\t숫자 6과 다르므로 주의\n",
    "𝑇\t| 𝜏 |\ttau | \t타우 |\t영어 t와 다르므로 주의\n",
    "Φ\t| 𝜙 |\tphi | \t파이 |/피\t\n",
    "𝑋\t| 𝜒 |\tchi | \t카이 |\t영어 x와 다르므로 주의\n",
    "Ψ\t| 𝜓 |\tpsi | \t프사이 |\t\n",
    "Ω\t| 𝜔 |\tomega | \t오메가 |\t영어 w와 다르므로 주의"
   ]
  },
  {
   "cell_type": "markdown",
   "metadata": {},
   "source": [
    "## 01.02 수열과 집합의 합과 곱\n",
    "\n",
    "### 수열\n",
    "N개의 숫자 또는 변수가 순서대로 나열된 것\n",
    "\n",
    "### 집합\n",
    "순서가 중요하지 않은 숫자들\n",
    "\n",
    "### 수열의 합과 곱\n",
    "$$ \\sum_{i=1}^{N} x_{i} = x_{1} + x_{2} + \\ldots + x_{N} $$\n",
    "$$ \\prod_{i=1}^{N} x_{i} = x_{1} \\cdot x_{2} \\cdot  \\ldots  \\cdot x_{N} $$\n",
    "$$ \\sum_{i=1}^{N} cx_{i} = c\\sum_{i=1}^{N} x_{i} $$\n",
    "$$ \\sum_{i=1}^{N} (x_{i} + y_{i}) = \\sum_{i=1}^{N} x_{i} + \\sum_{i=1}^{N} y_{i} $$\n",
    "$$ \\sum_{i=1}^{N}\\sum_{j=1}^{M} = \\sum_{j=1}^{M}\\sum_{i=1}^{N} $$\n",
    "$$ \\prod_{i=1}^{N}\\prod_{j=1}^{M} = \\prod_{j=1}^{M}\\prod_{i=1}^{N} $$\n",
    "\n",
    "### 집합의 합과 곱\n",
    "$$ X = \\{x_{1}, x_{2}, x_{3}\\} $$\n",
    "\n",
    "$$ \\sum_{X} x = x_{1} + x_{2} + x_{3} $$\n",
    "\n",
    "$$ \\prod_{X} x = x_{1} \\cdot x_{2} \\cdot x_{3} $$\n",
    "\n",
    "$$ \\prod_{x \\subseteq X,x \\neq 0} x $$"
   ]
  }
 ],
 "metadata": {
  "kernelspec": {
   "display_name": "Python 3",
   "language": "python",
   "name": "python3"
  },
  "language_info": {
   "codemirror_mode": {
    "name": "ipython",
    "version": 3
   },
   "file_extension": ".py",
   "mimetype": "text/x-python",
   "name": "python",
   "nbconvert_exporter": "python",
   "pygments_lexer": "ipython3",
   "version": "3.7.4"
  }
 },
 "nbformat": 4,
 "nbformat_minor": 2
}
