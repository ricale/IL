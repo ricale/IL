{
 "cells": [
  {
   "cell_type": "code",
   "execution_count": 1,
   "metadata": {},
   "outputs": [],
   "source": [
    "import pandas as pd\n",
    "import numpy as np"
   ]
  },
  {
   "cell_type": "code",
   "execution_count": 2,
   "metadata": {},
   "outputs": [],
   "source": [
    "reserve_tb = pd.read_csv('./data/reserve.csv', encoding='UTF-8')"
   ]
  },
  {
   "cell_type": "code",
   "execution_count": 3,
   "metadata": {},
   "outputs": [],
   "source": [
    "production_tb = pd.read_csv('./data/production.csv', encoding='UTF-8')"
   ]
  },
  {
   "cell_type": "code",
   "execution_count": 4,
   "metadata": {},
   "outputs": [],
   "source": [
    "monthly_index_tb = pd.read_csv('./data/monthly_index.csv', encoding='UTF-8')"
   ]
  },
  {
   "cell_type": "markdown",
   "metadata": {},
   "source": [
    "## 5. 분할\n",
    "### 5.1. 모델 검증을 위한 레코드 분할\n",
    "#### 교차 검증\n",
    "홀드아웃 검증"
   ]
  },
  {
   "cell_type": "code",
   "execution_count": 5,
   "metadata": {},
   "outputs": [],
   "source": [
    "from sklearn.model_selection import train_test_split\n",
    "from sklearn.model_selection import KFold\n",
    "\n",
    "train_data, test_data, train_target, test_target = \\\n",
    "    train_test_split(production_tb.drop('fault_flg', axis=1),\n",
    "                     production_tb[['fault_flg']],\n",
    "                     test_size=0.2)\n",
    "\n",
    "train_data.reset_index(inplace=True, drop=True)\n",
    "test_data.reset_index(inplace=True, drop=True)\n",
    "train_target.reset_index(inplace=True, drop=True)\n",
    "test_target.reset_index(inplace=True, drop=True)"
   ]
  },
  {
   "cell_type": "code",
   "execution_count": 6,
   "metadata": {},
   "outputs": [],
   "source": [
    "row_no_list = list(range(len(train_target)))\n",
    "k_fold = KFold(n_splits=4, shuffle=True)\n",
    "\n",
    "for train_cv_no, test_cv_no in k_fold.split(row_no_list):\n",
    "    train_cv = train_data.iloc[train_cv_no, :]\n",
    "    test_cv = train_data.iloc[test_cv_no, :]"
   ]
  },
  {
   "cell_type": "markdown",
   "metadata": {},
   "source": [
    "### 5.2. 모델 검증을 위한 시간 데이터 분할\n",
    "학습 기간이 일정한 패턴\n",
    "\n",
    " 1| 2| 3| 4| 5| 6| 7| 8| 9|10|11|12\n",
    "--|--|--|--|--|--|--|--|--|--|--|--\n",
    "학습|학습|학습|학습|학습|학습|검증|검증|  |  |  |  \n",
    "  |  |학습|학습|학습|학습|학습|학습|검증|검증|  |  \n",
    "  |  |  |  |학습|학습|학습|학습|학습|학습|검증|검증\n",
    "\n",
    "학습 기간이 늘어나는 패턴\n",
    "\n",
    " 1| 2| 3| 4| 5| 6| 7| 8| 9|10|11|12\n",
    "--|--|--|--|--|--|--|--|--|--|--|--\n",
    "학습|학습|학습|학습|학습|학습|검증|검증|  |  |  |  \n",
    "학습|학습|학습|학습|학습|학습|학습|학습|검증|검증|  |  \n",
    "학습|학습|학습|학습|학습|학습|학습|학습|학습|학습|검증|검증\n",
    "\n",
    "\n",
    "#### 학습 및 검증을 위한 시간 데이터 준비"
   ]
  },
  {
   "cell_type": "code",
   "execution_count": 7,
   "metadata": {},
   "outputs": [
    {
     "name": "stdout",
     "output_type": "stream",
     "text": [
      "1 24 25 36\n",
      "13 36 37 48\n",
      "25 48 49 60\n",
      "37 60 61 72\n",
      "49 72 73 84\n",
      "61 84 85 96\n",
      "73 96 97 108\n",
      "85 108 109 120\n"
     ]
    }
   ],
   "source": [
    "train_window_start = 1\n",
    "train_window_end = 24\n",
    "horizon = 12\n",
    "skip = 12\n",
    "\n",
    "monthly_index_tb.sort_values(by='year_month')\n",
    "\n",
    "while True:\n",
    "    test_window_end = train_window_end + horizon\n",
    "    \n",
    "    print(train_window_start, train_window_end, train_window_end+1, test_window_end)\n",
    "    \n",
    "    train = monthly_index_tb[train_window_start:train_window_end]\n",
    "    test = monthly_index_tb[(train_window_end+1):test_window_end]\n",
    "    \n",
    "    if test_window_end >= len(monthly_index_tb.index):\n",
    "        break\n",
    "        \n",
    "    train_window_start += skip\n",
    "    train_window_end += skip"
   ]
  },
  {
   "cell_type": "markdown",
   "metadata": {},
   "source": [
    "## 6. 생성\n",
    "\n",
    "- 적은 데이터를 늘리는 오버샘플링\n",
    "- 많은 데이터를 줄이는 언더샘플링\n",
    "- 위 두 가지를 같이 사용\n",
    "\n",
    "### 6.1. 언더샘플링\n",
    "\n",
    "- 4,5장의 방법을 활용해 시행\n",
    "- 언더샘플링보다는 오버샘플링을 권장\n",
    "\n",
    "### 6.2. 오버샘플링\n",
    "\n",
    "- SMOTE\n",
    "\n",
    "#### 오버샘플링"
   ]
  },
  {
   "cell_type": "code",
   "execution_count": 13,
   "metadata": {},
   "outputs": [],
   "source": [
    "from imblearn.over_sampling import SMOTE\n",
    "\n",
    "sm = SMOTE(sampling_strategy='auto', k_neighbors=5, random_state=7)\n",
    "\n",
    "balance_data, balance_target = \\\n",
    "    sm.fit_sample(production_tb[['length', 'thickness']],\n",
    "                  production_tb['fault_flg'])"
   ]
  },
  {
   "cell_type": "markdown",
   "metadata": {},
   "source": [
    "## 7. 전개\n",
    "데이터 집계 결과를 표 형식으로 변환\n",
    "\n",
    "### 7.1. 가로 데이터로 변환\n",
    "레코드 형식 -> 표 형식"
   ]
  },
  {
   "cell_type": "code",
   "execution_count": 15,
   "metadata": {},
   "outputs": [
    {
     "data": {
      "text/html": [
       "<div>\n",
       "<style scoped>\n",
       "    .dataframe tbody tr th:only-of-type {\n",
       "        vertical-align: middle;\n",
       "    }\n",
       "\n",
       "    .dataframe tbody tr th {\n",
       "        vertical-align: top;\n",
       "    }\n",
       "\n",
       "    .dataframe thead th {\n",
       "        text-align: right;\n",
       "    }\n",
       "</style>\n",
       "<table border=\"1\" class=\"dataframe\">\n",
       "  <thead>\n",
       "    <tr style=\"text-align: right;\">\n",
       "      <th>people_num</th>\n",
       "      <th>1</th>\n",
       "      <th>2</th>\n",
       "      <th>3</th>\n",
       "      <th>4</th>\n",
       "    </tr>\n",
       "    <tr>\n",
       "      <th>customer_id</th>\n",
       "      <th></th>\n",
       "      <th></th>\n",
       "      <th></th>\n",
       "      <th></th>\n",
       "    </tr>\n",
       "  </thead>\n",
       "  <tbody>\n",
       "    <tr>\n",
       "      <td>c_1</td>\n",
       "      <td>2</td>\n",
       "      <td>2</td>\n",
       "      <td>2</td>\n",
       "      <td>2</td>\n",
       "    </tr>\n",
       "    <tr>\n",
       "      <td>c_10</td>\n",
       "      <td>0</td>\n",
       "      <td>2</td>\n",
       "      <td>2</td>\n",
       "      <td>2</td>\n",
       "    </tr>\n",
       "    <tr>\n",
       "      <td>c_100</td>\n",
       "      <td>2</td>\n",
       "      <td>1</td>\n",
       "      <td>2</td>\n",
       "      <td>0</td>\n",
       "    </tr>\n",
       "    <tr>\n",
       "      <td>c_1000</td>\n",
       "      <td>1</td>\n",
       "      <td>0</td>\n",
       "      <td>0</td>\n",
       "      <td>1</td>\n",
       "    </tr>\n",
       "    <tr>\n",
       "      <td>c_101</td>\n",
       "      <td>2</td>\n",
       "      <td>1</td>\n",
       "      <td>1</td>\n",
       "      <td>1</td>\n",
       "    </tr>\n",
       "    <tr>\n",
       "      <td>...</td>\n",
       "      <td>...</td>\n",
       "      <td>...</td>\n",
       "      <td>...</td>\n",
       "      <td>...</td>\n",
       "    </tr>\n",
       "    <tr>\n",
       "      <td>c_994</td>\n",
       "      <td>1</td>\n",
       "      <td>0</td>\n",
       "      <td>0</td>\n",
       "      <td>0</td>\n",
       "    </tr>\n",
       "    <tr>\n",
       "      <td>c_995</td>\n",
       "      <td>2</td>\n",
       "      <td>2</td>\n",
       "      <td>1</td>\n",
       "      <td>3</td>\n",
       "    </tr>\n",
       "    <tr>\n",
       "      <td>c_996</td>\n",
       "      <td>0</td>\n",
       "      <td>4</td>\n",
       "      <td>3</td>\n",
       "      <td>0</td>\n",
       "    </tr>\n",
       "    <tr>\n",
       "      <td>c_997</td>\n",
       "      <td>0</td>\n",
       "      <td>1</td>\n",
       "      <td>1</td>\n",
       "      <td>0</td>\n",
       "    </tr>\n",
       "    <tr>\n",
       "      <td>c_999</td>\n",
       "      <td>1</td>\n",
       "      <td>3</td>\n",
       "      <td>1</td>\n",
       "      <td>1</td>\n",
       "    </tr>\n",
       "  </tbody>\n",
       "</table>\n",
       "<p>888 rows × 4 columns</p>\n",
       "</div>"
      ],
      "text/plain": [
       "people_num   1  2  3  4\n",
       "customer_id            \n",
       "c_1          2  2  2  2\n",
       "c_10         0  2  2  2\n",
       "c_100        2  1  2  0\n",
       "c_1000       1  0  0  1\n",
       "c_101        2  1  1  1\n",
       "...         .. .. .. ..\n",
       "c_994        1  0  0  0\n",
       "c_995        2  2  1  3\n",
       "c_996        0  4  3  0\n",
       "c_997        0  1  1  0\n",
       "c_999        1  3  1  1\n",
       "\n",
       "[888 rows x 4 columns]"
      ]
     },
     "execution_count": 15,
     "metadata": {},
     "output_type": "execute_result"
    }
   ],
   "source": [
    "pd.pivot_table(\n",
    "    reserve_tb,\n",
    "    index='customer_id',\n",
    "    columns='people_num',\n",
    "    values='reserve_id',\n",
    "    aggfunc=lambda x: len(x),\n",
    "    fill_value=0\n",
    ")"
   ]
  },
  {
   "cell_type": "markdown",
   "metadata": {},
   "source": [
    "### 7.2. 희소 행렬로 변환\n",
    "희소 행렬: 대부분 요소의 값이 0이고 극히 일부만 값을 가지는 거대한 행렬"
   ]
  },
  {
   "cell_type": "code",
   "execution_count": 25,
   "metadata": {},
   "outputs": [
    {
     "name": "stdout",
     "output_type": "stream",
     "text": [
      "  (0, 0)\t2\n",
      "  (2, 0)\t2\n",
      "  (3, 0)\t1\n",
      "  (4, 0)\t2\n",
      "  (6, 0)\t3\n",
      "  (9, 0)\t2\n",
      "  (10, 0)\t3\n",
      "  (11, 0)\t4\n",
      "  (13, 0)\t1\n",
      "  (16, 0)\t1\n",
      "  (18, 0)\t1\n",
      "  (19, 0)\t3\n",
      "  (20, 0)\t1\n",
      "  (21, 0)\t1\n",
      "  (22, 0)\t2\n",
      "  (23, 0)\t1\n",
      "  (24, 0)\t4\n",
      "  (25, 0)\t2\n",
      "  (27, 0)\t2\n",
      "  (29, 0)\t2\n",
      "  (30, 0)\t3\n",
      "  (32, 0)\t1\n",
      "  (36, 0)\t1\n",
      "  (37, 0)\t1\n",
      "  (40, 0)\t1\n",
      "  :\t:\n",
      "  (850, 3)\t1\n",
      "  (852, 3)\t1\n",
      "  (853, 3)\t1\n",
      "  (856, 3)\t2\n",
      "  (857, 3)\t1\n",
      "  (858, 3)\t3\n",
      "  (859, 3)\t3\n",
      "  (862, 3)\t1\n",
      "  (863, 3)\t1\n",
      "  (864, 3)\t1\n",
      "  (866, 3)\t1\n",
      "  (867, 3)\t1\n",
      "  (868, 3)\t1\n",
      "  (869, 3)\t3\n",
      "  (870, 3)\t2\n",
      "  (871, 3)\t1\n",
      "  (875, 3)\t1\n",
      "  (876, 3)\t2\n",
      "  (877, 3)\t1\n",
      "  (878, 3)\t1\n",
      "  (879, 3)\t4\n",
      "  (880, 3)\t2\n",
      "  (881, 3)\t3\n",
      "  (884, 3)\t3\n",
      "  (887, 3)\t1\n"
     ]
    }
   ],
   "source": [
    "from scipy.sparse import csc_matrix\n",
    "\n",
    "cnt_tb = reserve_tb \\\n",
    "    .groupby(['customer_id', 'people_num'])['reserve_id'].size() \\\n",
    "    .reset_index()\n",
    "cnt_tb.columns = ['customer_id', 'people_num', 'rsv_cnt']\n",
    "\n",
    "customer_id = pd.Categorical(cnt_tb['customer_id'])\n",
    "people_num = pd.Categorical(cnt_tb['people_num'])\n",
    "\n",
    "result = csc_matrix(\n",
    "    (cnt_tb['rsv_cnt'], (customer_id.codes, people_num.codes)),\n",
    "    shape=(len(customer_id.categories), len(people_num.categories))\n",
    ")\n",
    "print(result)"
   ]
  }
 ],
 "metadata": {
  "kernelspec": {
   "display_name": "Python 3",
   "language": "python",
   "name": "python3"
  },
  "language_info": {
   "codemirror_mode": {
    "name": "ipython",
    "version": 3
   },
   "file_extension": ".py",
   "mimetype": "text/x-python",
   "name": "python",
   "nbconvert_exporter": "python",
   "pygments_lexer": "ipython3",
   "version": "3.7.4"
  }
 },
 "nbformat": 4,
 "nbformat_minor": 2
}
