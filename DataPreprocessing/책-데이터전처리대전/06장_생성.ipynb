{
 "cells": [
  {
   "cell_type": "code",
   "execution_count": 1,
   "metadata": {},
   "outputs": [],
   "source": [
    "import pandas as pd\n",
    "import numpy as np"
   ]
  },
  {
   "cell_type": "code",
   "execution_count": 3,
   "metadata": {},
   "outputs": [],
   "source": [
    "production_tb = pd.read_csv('./data/production.csv', encoding='UTF-8')"
   ]
  },
  {
   "cell_type": "markdown",
   "metadata": {},
   "source": [
    "## 6. 생성\n",
    "\n",
    "- 적은 데이터를 늘리는 오버샘플링\n",
    "- 많은 데이터를 줄이는 언더샘플링\n",
    "- 위 두 가지를 같이 사용\n",
    "\n",
    "### 6.1. 언더샘플링\n",
    "\n",
    "- 4,5장의 방법을 활용해 시행\n",
    "- 언더샘플링보다는 오버샘플링을 권장\n",
    "\n",
    "### 6.2. 오버샘플링\n",
    "\n",
    "- SMOTE\n",
    "\n",
    "#### 오버샘플링"
   ]
  },
  {
   "cell_type": "code",
   "execution_count": 4,
   "metadata": {},
   "outputs": [
    {
     "name": "stderr",
     "output_type": "stream",
     "text": [
      "Using TensorFlow backend.\n"
     ]
    }
   ],
   "source": [
    "from imblearn.over_sampling import SMOTE\n",
    "\n",
    "sm = SMOTE(sampling_strategy='auto', k_neighbors=5, random_state=7)\n",
    "\n",
    "balance_data, balance_target = \\\n",
    "    sm.fit_sample(production_tb[['length', 'thickness']],\n",
    "                  production_tb['fault_flg'])"
   ]
  }
 ],
 "metadata": {
  "kernelspec": {
   "display_name": "Python 3",
   "language": "python",
   "name": "python3"
  },
  "language_info": {
   "codemirror_mode": {
    "name": "ipython",
    "version": 3
   },
   "file_extension": ".py",
   "mimetype": "text/x-python",
   "name": "python",
   "nbconvert_exporter": "python",
   "pygments_lexer": "ipython3",
   "version": "3.7.4"
  }
 },
 "nbformat": 4,
 "nbformat_minor": 2
}
