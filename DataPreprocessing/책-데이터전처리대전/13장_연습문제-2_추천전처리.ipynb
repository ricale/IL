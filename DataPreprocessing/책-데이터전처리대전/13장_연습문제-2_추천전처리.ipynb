{
 "cells": [
  {
   "cell_type": "code",
   "execution_count": 1,
   "metadata": {},
   "outputs": [],
   "source": [
    "import pandas as pd\n",
    "import numpy as np"
   ]
  },
  {
   "cell_type": "code",
   "execution_count": 3,
   "metadata": {},
   "outputs": [],
   "source": [
    "reserve_tb = pd.read_csv('./data/reserve.csv', encoding='UTF-8')"
   ]
  },
  {
   "cell_type": "code",
   "execution_count": 4,
   "metadata": {},
   "outputs": [],
   "source": [
    "customer_tb = pd.read_csv('./data/customer.csv', encoding='UTF-8')"
   ]
  },
  {
   "cell_type": "code",
   "execution_count": 5,
   "metadata": {},
   "outputs": [],
   "source": [
    "hotel_tb = pd.read_csv('./data/hotel.csv', encoding='UTF-8')"
   ]
  },
  {
   "cell_type": "markdown",
   "metadata": {},
   "source": [
    "## 13. 연습 문제\n",
    "### 13.2. 추천 전처리\n",
    "#### 추천을 위한 희소 행렬 작성"
   ]
  },
  {
   "cell_type": "code",
   "execution_count": 10,
   "metadata": {},
   "outputs": [],
   "source": [
    "reserve_tb = reserve_tb.query('\"2016-01-01\" <= checkin_date <= \"2016-12-31\"')"
   ]
  },
  {
   "cell_type": "code",
   "execution_count": 11,
   "metadata": {},
   "outputs": [
    {
     "data": {
      "text/html": [
       "<div>\n",
       "<style scoped>\n",
       "    .dataframe tbody tr th:only-of-type {\n",
       "        vertical-align: middle;\n",
       "    }\n",
       "\n",
       "    .dataframe tbody tr th {\n",
       "        vertical-align: top;\n",
       "    }\n",
       "\n",
       "    .dataframe thead th {\n",
       "        text-align: right;\n",
       "    }\n",
       "</style>\n",
       "<table border=\"1\" class=\"dataframe\">\n",
       "  <thead>\n",
       "    <tr style=\"text-align: right;\">\n",
       "      <th></th>\n",
       "      <th>customer_id</th>\n",
       "      <th>hotel_id</th>\n",
       "      <th>rsv_cnt</th>\n",
       "    </tr>\n",
       "  </thead>\n",
       "  <tbody>\n",
       "    <tr>\n",
       "      <td>0</td>\n",
       "      <td>c_1</td>\n",
       "      <td>h_179</td>\n",
       "      <td>1</td>\n",
       "    </tr>\n",
       "    <tr>\n",
       "      <td>1</td>\n",
       "      <td>c_1</td>\n",
       "      <td>h_219</td>\n",
       "      <td>1</td>\n",
       "    </tr>\n",
       "    <tr>\n",
       "      <td>2</td>\n",
       "      <td>c_1</td>\n",
       "      <td>h_75</td>\n",
       "      <td>1</td>\n",
       "    </tr>\n",
       "    <tr>\n",
       "      <td>3</td>\n",
       "      <td>c_10</td>\n",
       "      <td>h_102</td>\n",
       "      <td>1</td>\n",
       "    </tr>\n",
       "    <tr>\n",
       "      <td>4</td>\n",
       "      <td>c_10</td>\n",
       "      <td>h_245</td>\n",
       "      <td>1</td>\n",
       "    </tr>\n",
       "    <tr>\n",
       "      <td>...</td>\n",
       "      <td>...</td>\n",
       "      <td>...</td>\n",
       "      <td>...</td>\n",
       "    </tr>\n",
       "    <tr>\n",
       "      <td>2287</td>\n",
       "      <td>c_996</td>\n",
       "      <td>h_27</td>\n",
       "      <td>1</td>\n",
       "    </tr>\n",
       "    <tr>\n",
       "      <td>2288</td>\n",
       "      <td>c_997</td>\n",
       "      <td>h_159</td>\n",
       "      <td>1</td>\n",
       "    </tr>\n",
       "    <tr>\n",
       "      <td>2289</td>\n",
       "      <td>c_997</td>\n",
       "      <td>h_172</td>\n",
       "      <td>1</td>\n",
       "    </tr>\n",
       "    <tr>\n",
       "      <td>2290</td>\n",
       "      <td>c_999</td>\n",
       "      <td>h_244</td>\n",
       "      <td>1</td>\n",
       "    </tr>\n",
       "    <tr>\n",
       "      <td>2291</td>\n",
       "      <td>c_999</td>\n",
       "      <td>h_4</td>\n",
       "      <td>1</td>\n",
       "    </tr>\n",
       "  </tbody>\n",
       "</table>\n",
       "<p>2292 rows × 3 columns</p>\n",
       "</div>"
      ],
      "text/plain": [
       "     customer_id hotel_id  rsv_cnt\n",
       "0            c_1    h_179        1\n",
       "1            c_1    h_219        1\n",
       "2            c_1     h_75        1\n",
       "3           c_10    h_102        1\n",
       "4           c_10    h_245        1\n",
       "...          ...      ...      ...\n",
       "2287       c_996     h_27        1\n",
       "2288       c_997    h_159        1\n",
       "2289       c_997    h_172        1\n",
       "2290       c_999    h_244        1\n",
       "2291       c_999      h_4        1\n",
       "\n",
       "[2292 rows x 3 columns]"
      ]
     },
     "execution_count": 11,
     "metadata": {},
     "output_type": "execute_result"
    }
   ],
   "source": [
    "from scipy.sparse import csc_matrix\n",
    "\n",
    "count_tb = reserve_tb \\\n",
    "    .groupby(['customer_id', 'hotel_id'])['reserve_id'] \\\n",
    "    .count() \\\n",
    "    .reset_index() \\\n",
    "    .rename(columns={'reserve_id': 'rsv_cnt'})\n",
    "\n",
    "count_tb"
   ]
  },
  {
   "cell_type": "code",
   "execution_count": 12,
   "metadata": {},
   "outputs": [
    {
     "data": {
      "text/plain": [
       "[c_1, c_1, c_1, c_10, c_10, ..., c_996, c_997, c_997, c_999, c_999]\n",
       "Length: 2292\n",
       "Categories (888, object): [c_1, c_10, c_100, c_1000, ..., c_995, c_996, c_997, c_999]"
      ]
     },
     "execution_count": 12,
     "metadata": {},
     "output_type": "execute_result"
    }
   ],
   "source": [
    "customer_categories = pd.Categorical(count_tb['customer_id'])\n",
    "customer_categories"
   ]
  },
  {
   "cell_type": "code",
   "execution_count": 13,
   "metadata": {},
   "outputs": [
    {
     "data": {
      "text/plain": [
       "[h_179, h_219, h_75, h_102, h_245, ..., h_27, h_159, h_172, h_244, h_4]\n",
       "Length: 2292\n",
       "Categories (300, object): [h_1, h_10, h_100, h_101, ..., h_96, h_97, h_98, h_99]"
      ]
     },
     "execution_count": 13,
     "metadata": {},
     "output_type": "execute_result"
    }
   ],
   "source": [
    "hotel_categories = pd.Categorical(count_tb['hotel_id'])\n",
    "hotel_categories"
   ]
  },
  {
   "cell_type": "code",
   "execution_count": 14,
   "metadata": {},
   "outputs": [
    {
     "name": "stdout",
     "output_type": "stream",
     "text": [
      "  (263, 0)\t1\n",
      "  (326, 0)\t1\n",
      "  (359, 0)\t1\n",
      "  (377, 0)\t1\n",
      "  (423, 0)\t1\n",
      "  (647, 0)\t1\n",
      "  (734, 0)\t1\n",
      "  (137, 1)\t1\n",
      "  (614, 1)\t1\n",
      "  (10, 2)\t1\n",
      "  (144, 2)\t1\n",
      "  (148, 2)\t1\n",
      "  (190, 2)\t1\n",
      "  (207, 2)\t1\n",
      "  (361, 2)\t1\n",
      "  (478, 2)\t1\n",
      "  (559, 2)\t1\n",
      "  (620, 2)\t1\n",
      "  (709, 2)\t1\n",
      "  (716, 2)\t1\n",
      "  (765, 2)\t1\n",
      "  (782, 2)\t1\n",
      "  (89, 3)\t1\n",
      "  (90, 3)\t1\n",
      "  (182, 3)\t1\n",
      "  :\t:\n",
      "  (499, 297)\t1\n",
      "  (530, 297)\t1\n",
      "  (543, 297)\t1\n",
      "  (614, 297)\t1\n",
      "  (619, 297)\t1\n",
      "  (811, 297)\t1\n",
      "  (16, 298)\t1\n",
      "  (27, 298)\t1\n",
      "  (48, 298)\t1\n",
      "  (81, 298)\t1\n",
      "  (83, 298)\t1\n",
      "  (183, 298)\t1\n",
      "  (229, 298)\t1\n",
      "  (270, 298)\t1\n",
      "  (373, 298)\t2\n",
      "  (593, 298)\t1\n",
      "  (709, 298)\t1\n",
      "  (767, 298)\t1\n",
      "  (175, 299)\t1\n",
      "  (217, 299)\t1\n",
      "  (268, 299)\t1\n",
      "  (461, 299)\t1\n",
      "  (622, 299)\t1\n",
      "  (714, 299)\t1\n",
      "  (779, 299)\t1\n"
     ]
    }
   ],
   "source": [
    "result2 = csc_matrix(\n",
    "    (count_tb['rsv_cnt'], (customer_categories.codes, hotel_categories.codes)),\n",
    "    shape=(len(customer_categories.categories), len(hotel_categories.categories))\n",
    ")\n",
    "print(result2)"
   ]
  }
 ],
 "metadata": {
  "kernelspec": {
   "display_name": "Python 3",
   "language": "python",
   "name": "python3"
  },
  "language_info": {
   "codemirror_mode": {
    "name": "ipython",
    "version": 3
   },
   "file_extension": ".py",
   "mimetype": "text/x-python",
   "name": "python",
   "nbconvert_exporter": "python",
   "pygments_lexer": "ipython3",
   "version": "3.7.4"
  }
 },
 "nbformat": 4,
 "nbformat_minor": 2
}
