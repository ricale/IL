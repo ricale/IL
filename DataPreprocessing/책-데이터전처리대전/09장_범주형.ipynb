{
 "cells": [
  {
   "cell_type": "code",
   "execution_count": 1,
   "metadata": {},
   "outputs": [],
   "source": [
    "import pandas as pd\n",
    "import numpy as np"
   ]
  },
  {
   "cell_type": "code",
   "execution_count": 2,
   "metadata": {},
   "outputs": [],
   "source": [
    "customer_tb = pd.read_csv('./data/customer.csv', encoding='UTF-8')"
   ]
  },
  {
   "cell_type": "code",
   "execution_count": 7,
   "metadata": {},
   "outputs": [],
   "source": [
    "reserve_tb = pd.read_csv('./data/reserve.csv', encoding='UTF-8')"
   ]
  },
  {
   "cell_type": "code",
   "execution_count": 14,
   "metadata": {},
   "outputs": [],
   "source": [
    "production_tb = pd.read_csv('./data/production.csv', encoding='UTF-8')"
   ]
  },
  {
   "cell_type": "code",
   "execution_count": 21,
   "metadata": {},
   "outputs": [],
   "source": [
    "production_missc_tb = pd.read_csv('./data/production_missing_category.csv', encoding='UTF-8')"
   ]
  },
  {
   "cell_type": "markdown",
   "metadata": {},
   "source": [
    "## 9. 범주형\n",
    "### 9.1. 범주형으로 변환\n",
    "#### 범주형 변환"
   ]
  },
  {
   "cell_type": "code",
   "execution_count": 4,
   "metadata": {},
   "outputs": [
    {
     "data": {
      "text/html": [
       "<div>\n",
       "<style scoped>\n",
       "    .dataframe tbody tr th:only-of-type {\n",
       "        vertical-align: middle;\n",
       "    }\n",
       "\n",
       "    .dataframe tbody tr th {\n",
       "        vertical-align: top;\n",
       "    }\n",
       "\n",
       "    .dataframe thead th {\n",
       "        text-align: right;\n",
       "    }\n",
       "</style>\n",
       "<table border=\"1\" class=\"dataframe\">\n",
       "  <thead>\n",
       "    <tr style=\"text-align: right;\">\n",
       "      <th></th>\n",
       "      <th>sex</th>\n",
       "      <th>sex_is_man</th>\n",
       "      <th>sex_c</th>\n",
       "    </tr>\n",
       "  </thead>\n",
       "  <tbody>\n",
       "    <tr>\n",
       "      <td>0</td>\n",
       "      <td>man</td>\n",
       "      <td>True</td>\n",
       "      <td>man</td>\n",
       "    </tr>\n",
       "    <tr>\n",
       "      <td>1</td>\n",
       "      <td>man</td>\n",
       "      <td>True</td>\n",
       "      <td>man</td>\n",
       "    </tr>\n",
       "    <tr>\n",
       "      <td>2</td>\n",
       "      <td>woman</td>\n",
       "      <td>False</td>\n",
       "      <td>woman</td>\n",
       "    </tr>\n",
       "    <tr>\n",
       "      <td>3</td>\n",
       "      <td>man</td>\n",
       "      <td>True</td>\n",
       "      <td>man</td>\n",
       "    </tr>\n",
       "    <tr>\n",
       "      <td>4</td>\n",
       "      <td>man</td>\n",
       "      <td>True</td>\n",
       "      <td>man</td>\n",
       "    </tr>\n",
       "    <tr>\n",
       "      <td>...</td>\n",
       "      <td>...</td>\n",
       "      <td>...</td>\n",
       "      <td>...</td>\n",
       "    </tr>\n",
       "    <tr>\n",
       "      <td>995</td>\n",
       "      <td>man</td>\n",
       "      <td>True</td>\n",
       "      <td>man</td>\n",
       "    </tr>\n",
       "    <tr>\n",
       "      <td>996</td>\n",
       "      <td>man</td>\n",
       "      <td>True</td>\n",
       "      <td>man</td>\n",
       "    </tr>\n",
       "    <tr>\n",
       "      <td>997</td>\n",
       "      <td>woman</td>\n",
       "      <td>False</td>\n",
       "      <td>woman</td>\n",
       "    </tr>\n",
       "    <tr>\n",
       "      <td>998</td>\n",
       "      <td>woman</td>\n",
       "      <td>False</td>\n",
       "      <td>woman</td>\n",
       "    </tr>\n",
       "    <tr>\n",
       "      <td>999</td>\n",
       "      <td>man</td>\n",
       "      <td>True</td>\n",
       "      <td>man</td>\n",
       "    </tr>\n",
       "  </tbody>\n",
       "</table>\n",
       "<p>1000 rows × 3 columns</p>\n",
       "</div>"
      ],
      "text/plain": [
       "       sex  sex_is_man  sex_c\n",
       "0      man        True    man\n",
       "1      man        True    man\n",
       "2    woman       False  woman\n",
       "3      man        True    man\n",
       "4      man        True    man\n",
       "..     ...         ...    ...\n",
       "995    man        True    man\n",
       "996    man        True    man\n",
       "997  woman       False  woman\n",
       "998  woman       False  woman\n",
       "999    man        True    man\n",
       "\n",
       "[1000 rows x 3 columns]"
      ]
     },
     "execution_count": 4,
     "metadata": {},
     "output_type": "execute_result"
    }
   ],
   "source": [
    "customer_tb[['sex_is_man']] = (customer_tb[['sex']] == 'man').astype('bool')\n",
    "\n",
    "# 마스터 데이터가 생성됨\n",
    "customer_tb['sex_c'] = pd.Categorical(customer_tb['sex'], categories=['man', 'woman'])\n",
    "\n",
    "# 마스터 데이터가 생성되지 않음\n",
    "# customer_tb['sex_c'] = customer_tb['sex'].astype('category')\n",
    "\n",
    "customer_tb[['sex', 'sex_is_man', 'sex_c']]"
   ]
  },
  {
   "cell_type": "code",
   "execution_count": 5,
   "metadata": {},
   "outputs": [
    {
     "data": {
      "text/plain": [
       "0      0\n",
       "1      0\n",
       "2      1\n",
       "3      0\n",
       "4      0\n",
       "      ..\n",
       "995    0\n",
       "996    0\n",
       "997    1\n",
       "998    1\n",
       "999    0\n",
       "Length: 1000, dtype: int8"
      ]
     },
     "execution_count": 5,
     "metadata": {},
     "output_type": "execute_result"
    }
   ],
   "source": [
    "customer_tb['sex_c'].cat.codes"
   ]
  },
  {
   "cell_type": "code",
   "execution_count": 6,
   "metadata": {},
   "outputs": [
    {
     "data": {
      "text/plain": [
       "Index(['man', 'woman'], dtype='object')"
      ]
     },
     "execution_count": 6,
     "metadata": {},
     "output_type": "execute_result"
    }
   ],
   "source": [
    "customer_tb['sex_c'].cat.categories"
   ]
  },
  {
   "cell_type": "markdown",
   "metadata": {},
   "source": [
    "### 9.2. 더미 변수화\n",
    "더미 변수화\n",
    "- (범주형을 지원하지 않는 머신러닝 엔진을 위해) 범줏값을 플래그의 집합 값으로 변환하는 것\n",
    "- 더미 변수를 범주 수보다 하나 줄여서 할 수도 있지만, 그러면 줄인 범주에 대해 가중치 등을 설정할 수 없다.\n",
    "\n",
    "#### 더미 변수화"
   ]
  },
  {
   "cell_type": "code",
   "execution_count": 9,
   "metadata": {},
   "outputs": [
    {
     "data": {
      "text/html": [
       "<div>\n",
       "<style scoped>\n",
       "    .dataframe tbody tr th:only-of-type {\n",
       "        vertical-align: middle;\n",
       "    }\n",
       "\n",
       "    .dataframe tbody tr th {\n",
       "        vertical-align: top;\n",
       "    }\n",
       "\n",
       "    .dataframe thead th {\n",
       "        text-align: right;\n",
       "    }\n",
       "</style>\n",
       "<table border=\"1\" class=\"dataframe\">\n",
       "  <thead>\n",
       "    <tr style=\"text-align: right;\">\n",
       "      <th>sex</th>\n",
       "      <th>man</th>\n",
       "      <th>woman</th>\n",
       "    </tr>\n",
       "  </thead>\n",
       "  <tbody>\n",
       "    <tr>\n",
       "      <td>0</td>\n",
       "      <td>1</td>\n",
       "      <td>0</td>\n",
       "    </tr>\n",
       "    <tr>\n",
       "      <td>1</td>\n",
       "      <td>1</td>\n",
       "      <td>0</td>\n",
       "    </tr>\n",
       "    <tr>\n",
       "      <td>2</td>\n",
       "      <td>0</td>\n",
       "      <td>1</td>\n",
       "    </tr>\n",
       "    <tr>\n",
       "      <td>3</td>\n",
       "      <td>1</td>\n",
       "      <td>0</td>\n",
       "    </tr>\n",
       "    <tr>\n",
       "      <td>4</td>\n",
       "      <td>1</td>\n",
       "      <td>0</td>\n",
       "    </tr>\n",
       "    <tr>\n",
       "      <td>...</td>\n",
       "      <td>...</td>\n",
       "      <td>...</td>\n",
       "    </tr>\n",
       "    <tr>\n",
       "      <td>995</td>\n",
       "      <td>1</td>\n",
       "      <td>0</td>\n",
       "    </tr>\n",
       "    <tr>\n",
       "      <td>996</td>\n",
       "      <td>1</td>\n",
       "      <td>0</td>\n",
       "    </tr>\n",
       "    <tr>\n",
       "      <td>997</td>\n",
       "      <td>0</td>\n",
       "      <td>1</td>\n",
       "    </tr>\n",
       "    <tr>\n",
       "      <td>998</td>\n",
       "      <td>0</td>\n",
       "      <td>1</td>\n",
       "    </tr>\n",
       "    <tr>\n",
       "      <td>999</td>\n",
       "      <td>1</td>\n",
       "      <td>0</td>\n",
       "    </tr>\n",
       "  </tbody>\n",
       "</table>\n",
       "<p>1000 rows × 2 columns</p>\n",
       "</div>"
      ],
      "text/plain": [
       "sex  man  woman\n",
       "0      1      0\n",
       "1      1      0\n",
       "2      0      1\n",
       "3      1      0\n",
       "4      1      0\n",
       "..   ...    ...\n",
       "995    1      0\n",
       "996    1      0\n",
       "997    0      1\n",
       "998    0      1\n",
       "999    1      0\n",
       "\n",
       "[1000 rows x 2 columns]"
      ]
     },
     "execution_count": 9,
     "metadata": {},
     "output_type": "execute_result"
    }
   ],
   "source": [
    "customer_tb['sex'] = pd.Categorical(customer_tb['sex'])\n",
    "dummy_vars = pd.get_dummies(customer_tb['sex'], drop_first=False)\n",
    "dummy_vars"
   ]
  },
  {
   "cell_type": "markdown",
   "metadata": {},
   "source": [
    "### 9.3. 범주값의 집약\n",
    "과학습과 지나치게 많은 범주값을 줄이기 위해, 범주값간에 집약을 하면 정확도가 높아질 수 있다.\n",
    "\n",
    "#### 범주값의 잡약"
   ]
  },
  {
   "cell_type": "code",
   "execution_count": 11,
   "metadata": {},
   "outputs": [
    {
     "data": {
      "text/plain": [
       "0      40\n",
       "1      30\n",
       "2      40\n",
       "3      40\n",
       "4      30\n",
       "       ..\n",
       "995    40\n",
       "996    30\n",
       "997    30\n",
       "998    40\n",
       "999    30\n",
       "Name: age_rank, Length: 1000, dtype: category\n",
       "Categories (5, object): [20, 30, 40, 50, 60+]"
      ]
     },
     "execution_count": 11,
     "metadata": {},
     "output_type": "execute_result"
    }
   ],
   "source": [
    "customer_tb['age_rank'] = \\\n",
    "    pd.Categorical(np.floor(customer_tb['age']/10)*10)\n",
    "\n",
    "customer_tb['age_rank'].cat.add_categories(['60+'], inplace=True)\n",
    "\n",
    "customer_tb.loc[\n",
    "    customer_tb['age_rank'].isin([60.0, 70.0, 80.0]),\n",
    "    'age_rank'\n",
    "] = '60+'\n",
    "\n",
    "customer_tb['age_rank'].cat.remove_unused_categories(inplace=True)\n",
    "\n",
    "customer_tb['age_rank']"
   ]
  },
  {
   "cell_type": "markdown",
   "metadata": {},
   "source": [
    "### 9.4. 범주값의 조합\n",
    "데이터가 많아지기 때문에 데이터 양을 파악하면서 사용할 것\n",
    "#### 범주값의 조합"
   ]
  },
  {
   "cell_type": "code",
   "execution_count": 12,
   "metadata": {},
   "outputs": [
    {
     "data": {
      "text/plain": [
       "0        man_40.0\n",
       "1        man_30.0\n",
       "2      woman_40.0\n",
       "3        man_40.0\n",
       "4        man_30.0\n",
       "          ...    \n",
       "995      man_40.0\n",
       "996      man_30.0\n",
       "997    woman_30.0\n",
       "998    woman_40.0\n",
       "999      man_30.0\n",
       "Name: sex_and_age, Length: 1000, dtype: category\n",
       "Categories (14, object): [man_20.0, man_30.0, man_40.0, man_50.0, ..., woman_50.0, woman_60.0, woman_70.0, woman_80.0]"
      ]
     },
     "execution_count": 12,
     "metadata": {},
     "output_type": "execute_result"
    }
   ],
   "source": [
    "customer_tb['sex_and_age'] = pd.Categorical(\n",
    "    customer_tb[['sex', 'age']]\n",
    "        .apply(lambda x: '{}_{}'.format(x[0], np.floor(x[1] / 10) * 10), axis=1)\n",
    ")\n",
    "customer_tb['sex_and_age']"
   ]
  },
  {
   "cell_type": "markdown",
   "metadata": {},
   "source": [
    "### 9.5. 범주형의 수치화\n",
    "- 학습 데이터 양이 적을 때 고려됨\n",
    "- 과학습이 발생하거나 원래 데이터의 의미를 잃을 수 있음 (그래서 기본적으로 추천되는 방법은 아님)\n",
    "\n",
    "#### 범주형의 수치화\n",
    "\n",
    "평균 불량률은 자신의 레코드는 제외한 평균으로 계산한다 (과학습 및 데이터 누수 방지)"
   ]
  },
  {
   "cell_type": "code",
   "execution_count": 16,
   "metadata": {},
   "outputs": [
    {
     "data": {
      "text/plain": [
       "type\n",
       "A    11\n",
       "B     6\n",
       "C    16\n",
       "D     7\n",
       "E    12\n",
       "Name: fault_flg, dtype: int64"
      ]
     },
     "execution_count": 16,
     "metadata": {},
     "output_type": "execute_result"
    }
   ],
   "source": [
    "fault_cnt_per_type = production_tb\\\n",
    "    .query('fault_flg') \\\n",
    "    .groupby('type')['fault_flg'] \\\n",
    "    .count()\n",
    "fault_cnt_per_type"
   ]
  },
  {
   "cell_type": "code",
   "execution_count": 17,
   "metadata": {},
   "outputs": [
    {
     "data": {
      "text/plain": [
       "type\n",
       "A    202\n",
       "B    175\n",
       "C    211\n",
       "D    215\n",
       "E    197\n",
       "Name: fault_flg, dtype: int64"
      ]
     },
     "execution_count": 17,
     "metadata": {},
     "output_type": "execute_result"
    }
   ],
   "source": [
    "type_cnt = production_tb.groupby('type')['fault_flg'].count()\n",
    "type_cnt"
   ]
  },
  {
   "cell_type": "code",
   "execution_count": 18,
   "metadata": {},
   "outputs": [
    {
     "data": {
      "text/html": [
       "<div>\n",
       "<style scoped>\n",
       "    .dataframe tbody tr th:only-of-type {\n",
       "        vertical-align: middle;\n",
       "    }\n",
       "\n",
       "    .dataframe tbody tr th {\n",
       "        vertical-align: top;\n",
       "    }\n",
       "\n",
       "    .dataframe thead th {\n",
       "        text-align: right;\n",
       "    }\n",
       "</style>\n",
       "<table border=\"1\" class=\"dataframe\">\n",
       "  <thead>\n",
       "    <tr style=\"text-align: right;\">\n",
       "      <th></th>\n",
       "      <th>type</th>\n",
       "      <th>fault_flg</th>\n",
       "      <th>type_fault_rate</th>\n",
       "    </tr>\n",
       "  </thead>\n",
       "  <tbody>\n",
       "    <tr>\n",
       "      <td>0</td>\n",
       "      <td>E</td>\n",
       "      <td>False</td>\n",
       "      <td>0.061224</td>\n",
       "    </tr>\n",
       "    <tr>\n",
       "      <td>1</td>\n",
       "      <td>D</td>\n",
       "      <td>False</td>\n",
       "      <td>0.032710</td>\n",
       "    </tr>\n",
       "    <tr>\n",
       "      <td>2</td>\n",
       "      <td>E</td>\n",
       "      <td>False</td>\n",
       "      <td>0.061224</td>\n",
       "    </tr>\n",
       "    <tr>\n",
       "      <td>3</td>\n",
       "      <td>B</td>\n",
       "      <td>False</td>\n",
       "      <td>0.034483</td>\n",
       "    </tr>\n",
       "    <tr>\n",
       "      <td>4</td>\n",
       "      <td>B</td>\n",
       "      <td>False</td>\n",
       "      <td>0.034483</td>\n",
       "    </tr>\n",
       "    <tr>\n",
       "      <td>...</td>\n",
       "      <td>...</td>\n",
       "      <td>...</td>\n",
       "      <td>...</td>\n",
       "    </tr>\n",
       "    <tr>\n",
       "      <td>995</td>\n",
       "      <td>C</td>\n",
       "      <td>False</td>\n",
       "      <td>0.076190</td>\n",
       "    </tr>\n",
       "    <tr>\n",
       "      <td>996</td>\n",
       "      <td>D</td>\n",
       "      <td>False</td>\n",
       "      <td>0.032710</td>\n",
       "    </tr>\n",
       "    <tr>\n",
       "      <td>997</td>\n",
       "      <td>B</td>\n",
       "      <td>False</td>\n",
       "      <td>0.034483</td>\n",
       "    </tr>\n",
       "    <tr>\n",
       "      <td>998</td>\n",
       "      <td>D</td>\n",
       "      <td>False</td>\n",
       "      <td>0.032710</td>\n",
       "    </tr>\n",
       "    <tr>\n",
       "      <td>999</td>\n",
       "      <td>C</td>\n",
       "      <td>True</td>\n",
       "      <td>0.071429</td>\n",
       "    </tr>\n",
       "  </tbody>\n",
       "</table>\n",
       "<p>1000 rows × 3 columns</p>\n",
       "</div>"
      ],
      "text/plain": [
       "    type  fault_flg  type_fault_rate\n",
       "0      E      False         0.061224\n",
       "1      D      False         0.032710\n",
       "2      E      False         0.061224\n",
       "3      B      False         0.034483\n",
       "4      B      False         0.034483\n",
       "..   ...        ...              ...\n",
       "995    C      False         0.076190\n",
       "996    D      False         0.032710\n",
       "997    B      False         0.034483\n",
       "998    D      False         0.032710\n",
       "999    C       True         0.071429\n",
       "\n",
       "[1000 rows x 3 columns]"
      ]
     },
     "execution_count": 18,
     "metadata": {},
     "output_type": "execute_result"
    }
   ],
   "source": [
    "production_tb['type_fault_rate'] = production_tb[['type', 'fault_flg']] \\\n",
    "    .apply(\n",
    "        lambda x: (fault_cnt_per_type[x[0]] - int(x[1])) / (type_cnt[x[0]] - 1),\n",
    "        axis=1\n",
    "    )\n",
    "\n",
    "production_tb[['type', 'fault_flg', 'type_fault_rate']]"
   ]
  },
  {
   "cell_type": "markdown",
   "metadata": {},
   "source": [
    "### 9.6. 범주형의 보완\n",
    "결손에 대한 보완 방법\n",
    "- 고정값으로 보완  \n",
    "결손을 의미하는 고정값을 만들어서 보완. 존재하지 않는 범주가 늘어나므로 비추천\n",
    "- 집계값으로 보완  \n",
    "최빈값을 계산해 보완값으로 사용. 지정한 최빈값 데이터가 늘어나므로 결손값이 많을 때는 비추천\n",
    "- 결손이 발생하지 않은 데이터에 기반한 예측값으로 보완  \n",
    "- 시간 관계로 보완\n",
    "- 다중대입법으로 보완  \n",
    "보완한 데이터셋을 여러 개 만들어 각 데이터셋을 해석\n",
    "- 최대 가능도로 보완  \n",
    "잠재 변수를 도입해 EM 알고리즘을 사용, 가능도를 최대화하여 결손값을 보완\n",
    "\n",
    "#### KNN을 이용한 보완\n",
    "결손이 발생하지 않은 데이터를 이용한 예측 결과에서 결손값을 보완"
   ]
  },
  {
   "cell_type": "code",
   "execution_count": 23,
   "metadata": {},
   "outputs": [
    {
     "data": {
      "text/plain": [
       "8      E\n",
       "26     E\n",
       "30     E\n",
       "36     A\n",
       "41     E\n",
       "      ..\n",
       "971    A\n",
       "980    E\n",
       "983    B\n",
       "992    A\n",
       "996    A\n",
       "Name: type, Length: 100, dtype: object"
      ]
     },
     "execution_count": 23,
     "metadata": {},
     "output_type": "execute_result"
    }
   ],
   "source": [
    "from sklearn.neighbors import KNeighborsClassifier\n",
    "\n",
    "production_missc_tb.replace('None', np.nan, inplace=True)\n",
    "\n",
    "train = production_missc_tb.dropna(subset=['type'], inplace=False)\n",
    "\n",
    "test = production_missc_tb \\\n",
    "    .loc[production_missc_tb.index.difference(train.index), :]\n",
    "\n",
    "kn = KNeighborsClassifier(n_neighbors=3)\n",
    "\n",
    "kn.fit(train[['length', 'thickness']], train['type'])\n",
    "\n",
    "test['type'] = kn.predict(test[['length', 'thickness']])\n",
    "test['type']"
   ]
  }
 ],
 "metadata": {
  "kernelspec": {
   "display_name": "Python 3",
   "language": "python",
   "name": "python3"
  },
  "language_info": {
   "codemirror_mode": {
    "name": "ipython",
    "version": 3
   },
   "file_extension": ".py",
   "mimetype": "text/x-python",
   "name": "python",
   "nbconvert_exporter": "python",
   "pygments_lexer": "ipython3",
   "version": "3.7.4"
  }
 },
 "nbformat": 4,
 "nbformat_minor": 2
}
