{
 "cells": [
  {
   "cell_type": "code",
   "execution_count": 6,
   "metadata": {},
   "outputs": [],
   "source": [
    "import pandas as pd\n",
    "import numpy as np"
   ]
  },
  {
   "cell_type": "code",
   "execution_count": 40,
   "metadata": {},
   "outputs": [],
   "source": [
    "reserve_tb = pd.read_csv('./data/reserve.csv', encoding='UTF-8')"
   ]
  },
  {
   "cell_type": "code",
   "execution_count": 26,
   "metadata": {},
   "outputs": [],
   "source": [
    "customer_tb = pd.read_csv('./data/customer.csv', encoding='UTF-8')"
   ]
  },
  {
   "cell_type": "code",
   "execution_count": 45,
   "metadata": {},
   "outputs": [],
   "source": [
    "production_tb = pd.read_csv('./data/production.csv', encoding='UTF-8')"
   ]
  },
  {
   "cell_type": "code",
   "execution_count": 7,
   "metadata": {},
   "outputs": [],
   "source": [
    "production_miss_num_tb = pd.read_csv('./data/production_missing_num.csv', encoding='UTF-8')"
   ]
  },
  {
   "cell_type": "markdown",
   "metadata": {},
   "source": [
    "## 8. 수치형\n",
    "### 8.1. 수치형 데이터로 변환\n",
    "\n",
    "#### 다양한 수치형 데이터로 변환"
   ]
  },
  {
   "cell_type": "code",
   "execution_count": 4,
   "metadata": {},
   "outputs": [
    {
     "data": {
      "text/plain": [
       "float"
      ]
     },
     "execution_count": 4,
     "metadata": {},
     "output_type": "execute_result"
    }
   ],
   "source": [
    "type(40000 / 3)"
   ]
  },
  {
   "cell_type": "code",
   "execution_count": 5,
   "metadata": {},
   "outputs": [
    {
     "data": {
      "text/plain": [
       "13333"
      ]
     },
     "execution_count": 5,
     "metadata": {},
     "output_type": "execute_result"
    }
   ],
   "source": [
    "int(40000 / 3)"
   ]
  },
  {
   "cell_type": "code",
   "execution_count": 6,
   "metadata": {},
   "outputs": [
    {
     "data": {
      "text/plain": [
       "13333.333333333334"
      ]
     },
     "execution_count": 6,
     "metadata": {},
     "output_type": "execute_result"
    }
   ],
   "source": [
    "float(40000 / 3)"
   ]
  },
  {
   "cell_type": "code",
   "execution_count": 9,
   "metadata": {},
   "outputs": [
    {
     "data": {
      "text/plain": [
       "value    float64\n",
       "dtype: object"
      ]
     },
     "execution_count": 9,
     "metadata": {},
     "output_type": "execute_result"
    }
   ],
   "source": [
    "df = pd.DataFrame({'value': [40000 / 3]})\n",
    "df.dtypes"
   ]
  },
  {
   "cell_type": "code",
   "execution_count": 10,
   "metadata": {},
   "outputs": [
    {
     "data": {
      "text/plain": [
       "0    13333.333333\n",
       "Name: value, dtype: float64"
      ]
     },
     "execution_count": 10,
     "metadata": {},
     "output_type": "execute_result"
    }
   ],
   "source": [
    "df['value']"
   ]
  },
  {
   "cell_type": "code",
   "execution_count": 11,
   "metadata": {},
   "outputs": [
    {
     "data": {
      "text/plain": [
       "0    21\n",
       "Name: value, dtype: int8"
      ]
     },
     "execution_count": 11,
     "metadata": {},
     "output_type": "execute_result"
    }
   ],
   "source": [
    "df['value'].astype('int8')"
   ]
  },
  {
   "cell_type": "code",
   "execution_count": 12,
   "metadata": {},
   "outputs": [
    {
     "data": {
      "text/plain": [
       "0    13333\n",
       "Name: value, dtype: int16"
      ]
     },
     "execution_count": 12,
     "metadata": {},
     "output_type": "execute_result"
    }
   ],
   "source": [
    "df['value'].astype('int16')"
   ]
  },
  {
   "cell_type": "code",
   "execution_count": 13,
   "metadata": {},
   "outputs": [
    {
     "data": {
      "text/plain": [
       "0    13333\n",
       "Name: value, dtype: int32"
      ]
     },
     "execution_count": 13,
     "metadata": {},
     "output_type": "execute_result"
    }
   ],
   "source": [
    "df['value'].astype('int32')"
   ]
  },
  {
   "cell_type": "code",
   "execution_count": 14,
   "metadata": {},
   "outputs": [
    {
     "data": {
      "text/plain": [
       "0    13333\n",
       "Name: value, dtype: int64"
      ]
     },
     "execution_count": 14,
     "metadata": {},
     "output_type": "execute_result"
    }
   ],
   "source": [
    "df['value'].astype('int64')"
   ]
  },
  {
   "cell_type": "code",
   "execution_count": 15,
   "metadata": {},
   "outputs": [
    {
     "data": {
      "text/plain": [
       "0    13336.0\n",
       "Name: value, dtype: float16"
      ]
     },
     "execution_count": 15,
     "metadata": {},
     "output_type": "execute_result"
    }
   ],
   "source": [
    "df['value'].astype('float16')"
   ]
  },
  {
   "cell_type": "code",
   "execution_count": 16,
   "metadata": {},
   "outputs": [
    {
     "data": {
      "text/plain": [
       "0    13333.333008\n",
       "Name: value, dtype: float32"
      ]
     },
     "execution_count": 16,
     "metadata": {},
     "output_type": "execute_result"
    }
   ],
   "source": [
    "df['value'].astype('float32')"
   ]
  },
  {
   "cell_type": "code",
   "execution_count": 17,
   "metadata": {},
   "outputs": [
    {
     "data": {
      "text/plain": [
       "0    13333.333333\n",
       "Name: value, dtype: float64"
      ]
     },
     "execution_count": 17,
     "metadata": {},
     "output_type": "execute_result"
    }
   ],
   "source": [
    "df['value'].astype('float64')"
   ]
  },
  {
   "cell_type": "code",
   "execution_count": 18,
   "metadata": {},
   "outputs": [
    {
     "data": {
      "text/plain": [
       "0    13333.333333\n",
       "Name: value, dtype: float128"
      ]
     },
     "execution_count": 18,
     "metadata": {},
     "output_type": "execute_result"
    }
   ],
   "source": [
    "df['value'].astype('float128')"
   ]
  },
  {
   "cell_type": "code",
   "execution_count": 19,
   "metadata": {},
   "outputs": [
    {
     "data": {
      "text/plain": [
       "0    13333\n",
       "Name: value, dtype: int64"
      ]
     },
     "execution_count": 19,
     "metadata": {},
     "output_type": "execute_result"
    }
   ],
   "source": [
    "df['value'].astype(int)"
   ]
  },
  {
   "cell_type": "code",
   "execution_count": 20,
   "metadata": {},
   "outputs": [
    {
     "data": {
      "text/plain": [
       "0    13333.333333\n",
       "Name: value, dtype: float64"
      ]
     },
     "execution_count": 20,
     "metadata": {},
     "output_type": "execute_result"
    }
   ],
   "source": [
    "df['value'].astype(float)"
   ]
  },
  {
   "cell_type": "markdown",
   "metadata": {},
   "source": [
    "### 8.2. 대수화를 이용한 비선형 변화\n",
    "대수화\n",
    "- 입력값을 대수로 변환\n",
    "- 값이 클수록 변화량을 작게 할 때 유용\n",
    "\n",
    "> 나이를 대수화한 예  \n",
    "> log(나이+1) = [대수화한 연령값]\n",
    "\n",
    "#### 대수화"
   ]
  },
  {
   "cell_type": "code",
   "execution_count": 24,
   "metadata": {},
   "outputs": [
    {
     "data": {
      "text/html": [
       "<div>\n",
       "<style scoped>\n",
       "    .dataframe tbody tr th:only-of-type {\n",
       "        vertical-align: middle;\n",
       "    }\n",
       "\n",
       "    .dataframe tbody tr th {\n",
       "        vertical-align: top;\n",
       "    }\n",
       "\n",
       "    .dataframe thead th {\n",
       "        text-align: right;\n",
       "    }\n",
       "</style>\n",
       "<table border=\"1\" class=\"dataframe\">\n",
       "  <thead>\n",
       "    <tr style=\"text-align: right;\">\n",
       "      <th></th>\n",
       "      <th>total_price</th>\n",
       "      <th>total_price_log</th>\n",
       "    </tr>\n",
       "  </thead>\n",
       "  <tbody>\n",
       "    <tr>\n",
       "      <td>0</td>\n",
       "      <td>97200</td>\n",
       "      <td>1.992111</td>\n",
       "    </tr>\n",
       "    <tr>\n",
       "      <td>1</td>\n",
       "      <td>20600</td>\n",
       "      <td>1.334454</td>\n",
       "    </tr>\n",
       "    <tr>\n",
       "      <td>2</td>\n",
       "      <td>33600</td>\n",
       "      <td>1.539076</td>\n",
       "    </tr>\n",
       "    <tr>\n",
       "      <td>3</td>\n",
       "      <td>194400</td>\n",
       "      <td>2.290925</td>\n",
       "    </tr>\n",
       "    <tr>\n",
       "      <td>4</td>\n",
       "      <td>68100</td>\n",
       "      <td>1.839478</td>\n",
       "    </tr>\n",
       "    <tr>\n",
       "      <td>...</td>\n",
       "      <td>...</td>\n",
       "      <td>...</td>\n",
       "    </tr>\n",
       "    <tr>\n",
       "      <td>4025</td>\n",
       "      <td>16000</td>\n",
       "      <td>1.230449</td>\n",
       "    </tr>\n",
       "    <tr>\n",
       "      <td>4026</td>\n",
       "      <td>41800</td>\n",
       "      <td>1.631444</td>\n",
       "    </tr>\n",
       "    <tr>\n",
       "      <td>4027</td>\n",
       "      <td>74800</td>\n",
       "      <td>1.879669</td>\n",
       "    </tr>\n",
       "    <tr>\n",
       "      <td>4028</td>\n",
       "      <td>540000</td>\n",
       "      <td>2.733197</td>\n",
       "    </tr>\n",
       "    <tr>\n",
       "      <td>4029</td>\n",
       "      <td>44100</td>\n",
       "      <td>1.654177</td>\n",
       "    </tr>\n",
       "  </tbody>\n",
       "</table>\n",
       "<p>4030 rows × 2 columns</p>\n",
       "</div>"
      ],
      "text/plain": [
       "      total_price  total_price_log\n",
       "0           97200         1.992111\n",
       "1           20600         1.334454\n",
       "2           33600         1.539076\n",
       "3          194400         2.290925\n",
       "4           68100         1.839478\n",
       "...           ...              ...\n",
       "4025        16000         1.230449\n",
       "4026        41800         1.631444\n",
       "4027        74800         1.879669\n",
       "4028       540000         2.733197\n",
       "4029        44100         1.654177\n",
       "\n",
       "[4030 rows x 2 columns]"
      ]
     },
     "execution_count": 24,
     "metadata": {},
     "output_type": "execute_result"
    }
   ],
   "source": [
    "reserve_tb['total_price_log'] = \\\n",
    "    reserve_tb['total_price'].apply(lambda x: np.log10(x / 1000 + 1))\n",
    "reserve_tb[['total_price', 'total_price_log']]"
   ]
  },
  {
   "cell_type": "markdown",
   "metadata": {},
   "source": [
    "### 8.3. 범주화를 이용한 비선형 변화\n",
    "범주화\n",
    "- 수치를 다수의 플래그값(true or false or etc)으로 변환하는 것\n",
    "- 세세한 비연속 변화를 표현하려면 범주 수가 늘어나, 학습 데이터 양도 늘어남\n",
    "\n",
    "#### 수치형의 범주화"
   ]
  },
  {
   "cell_type": "code",
   "execution_count": 34,
   "metadata": {},
   "outputs": [
    {
     "data": {
      "text/plain": [
       "0      40.0\n",
       "1      30.0\n",
       "2      40.0\n",
       "3      40.0\n",
       "4      30.0\n",
       "       ... \n",
       "995    40.0\n",
       "996    30.0\n",
       "997    30.0\n",
       "998    40.0\n",
       "999    30.0\n",
       "Name: age_rank, Length: 1000, dtype: category\n",
       "Categories (7, float64): [20.0, 30.0, 40.0, 50.0, 60.0, 70.0, 80.0]"
      ]
     },
     "execution_count": 34,
     "metadata": {},
     "output_type": "execute_result"
    }
   ],
   "source": [
    "customer_tb['age_rank'] = \\\n",
    "    (np.floor(customer_tb['age'] / 10) * 10).astype('category')\n",
    "customer_tb[['age', 'age_rank']]\n",
    "customer_tb['age_rank']"
   ]
  },
  {
   "cell_type": "markdown",
   "metadata": {},
   "source": [
    "### 8.4. 정규화\n",
    "정규화\n",
    "- 값이 가질 수 있는 범위를 통일하는 변환처리\n",
    "- 입력값의 차이가 크면 생길 수 있는 과학습 등을 방지\n",
    "\n",
    "방법\n",
    "- 평균 0, 분산 1로 변환\n",
    " - ([입력값]-[입력값평균])/[입력값표준편차]\n",
    " - 튀는 값이 있을 경우 추천\n",
    "- 최소값 0, 최대값 1로 변환 \n",
    " - ([입력값]-[입력값최소값])/([입력값최대값]-[입력값최소값])\n",
    " - 튀는 값이 없을 경우 추천"
   ]
  },
  {
   "cell_type": "code",
   "execution_count": 37,
   "metadata": {},
   "outputs": [
    {
     "data": {
      "text/html": [
       "<div>\n",
       "<style scoped>\n",
       "    .dataframe tbody tr th:only-of-type {\n",
       "        vertical-align: middle;\n",
       "    }\n",
       "\n",
       "    .dataframe tbody tr th {\n",
       "        vertical-align: top;\n",
       "    }\n",
       "\n",
       "    .dataframe thead th {\n",
       "        text-align: right;\n",
       "    }\n",
       "</style>\n",
       "<table border=\"1\" class=\"dataframe\">\n",
       "  <thead>\n",
       "    <tr style=\"text-align: right;\">\n",
       "      <th></th>\n",
       "      <th>people_num</th>\n",
       "      <th>people_num_normalized</th>\n",
       "      <th>total_price</th>\n",
       "      <th>total_price_normalized</th>\n",
       "    </tr>\n",
       "  </thead>\n",
       "  <tbody>\n",
       "    <tr>\n",
       "      <td>0</td>\n",
       "      <td>4.0</td>\n",
       "      <td>1.300709</td>\n",
       "      <td>97200</td>\n",
       "      <td>-0.053194</td>\n",
       "    </tr>\n",
       "    <tr>\n",
       "      <td>1</td>\n",
       "      <td>2.0</td>\n",
       "      <td>-0.483753</td>\n",
       "      <td>20600</td>\n",
       "      <td>-0.747822</td>\n",
       "    </tr>\n",
       "    <tr>\n",
       "      <td>2</td>\n",
       "      <td>2.0</td>\n",
       "      <td>-0.483753</td>\n",
       "      <td>33600</td>\n",
       "      <td>-0.629935</td>\n",
       "    </tr>\n",
       "    <tr>\n",
       "      <td>3</td>\n",
       "      <td>4.0</td>\n",
       "      <td>1.300709</td>\n",
       "      <td>194400</td>\n",
       "      <td>0.828240</td>\n",
       "    </tr>\n",
       "    <tr>\n",
       "      <td>4</td>\n",
       "      <td>3.0</td>\n",
       "      <td>0.408478</td>\n",
       "      <td>68100</td>\n",
       "      <td>-0.317080</td>\n",
       "    </tr>\n",
       "    <tr>\n",
       "      <td>...</td>\n",
       "      <td>...</td>\n",
       "      <td>...</td>\n",
       "      <td>...</td>\n",
       "      <td>...</td>\n",
       "    </tr>\n",
       "    <tr>\n",
       "      <td>4025</td>\n",
       "      <td>2.0</td>\n",
       "      <td>-0.483753</td>\n",
       "      <td>16000</td>\n",
       "      <td>-0.789536</td>\n",
       "    </tr>\n",
       "    <tr>\n",
       "      <td>4026</td>\n",
       "      <td>2.0</td>\n",
       "      <td>-0.483753</td>\n",
       "      <td>41800</td>\n",
       "      <td>-0.555575</td>\n",
       "    </tr>\n",
       "    <tr>\n",
       "      <td>4027</td>\n",
       "      <td>2.0</td>\n",
       "      <td>-0.483753</td>\n",
       "      <td>74800</td>\n",
       "      <td>-0.256323</td>\n",
       "    </tr>\n",
       "    <tr>\n",
       "      <td>4028</td>\n",
       "      <td>4.0</td>\n",
       "      <td>1.300709</td>\n",
       "      <td>540000</td>\n",
       "      <td>3.962229</td>\n",
       "    </tr>\n",
       "    <tr>\n",
       "      <td>4029</td>\n",
       "      <td>1.0</td>\n",
       "      <td>-1.375984</td>\n",
       "      <td>44100</td>\n",
       "      <td>-0.534718</td>\n",
       "    </tr>\n",
       "  </tbody>\n",
       "</table>\n",
       "<p>4030 rows × 4 columns</p>\n",
       "</div>"
      ],
      "text/plain": [
       "      people_num  people_num_normalized  total_price  total_price_normalized\n",
       "0            4.0               1.300709        97200               -0.053194\n",
       "1            2.0              -0.483753        20600               -0.747822\n",
       "2            2.0              -0.483753        33600               -0.629935\n",
       "3            4.0               1.300709       194400                0.828240\n",
       "4            3.0               0.408478        68100               -0.317080\n",
       "...          ...                    ...          ...                     ...\n",
       "4025         2.0              -0.483753        16000               -0.789536\n",
       "4026         2.0              -0.483753        41800               -0.555575\n",
       "4027         2.0              -0.483753        74800               -0.256323\n",
       "4028         4.0               1.300709       540000                3.962229\n",
       "4029         1.0              -1.375984        44100               -0.534718\n",
       "\n",
       "[4030 rows x 4 columns]"
      ]
     },
     "execution_count": 37,
     "metadata": {},
     "output_type": "execute_result"
    }
   ],
   "source": [
    "from sklearn.preprocessing import StandardScaler\n",
    "\n",
    "reserve_tb['people_num'] = reserve_tb['people_num'].astype(float)\n",
    "\n",
    "# 평균 0 분산 1 정규화\n",
    "ss = StandardScaler()\n",
    "# 최소 0 최대 1 정규화는 MinMaxScaler를 사용\n",
    "\n",
    "result = ss.fit_transform(reserve_tb[['people_num', 'total_price']])\n",
    "\n",
    "reserve_tb['people_num_normalized'] = [x[0] for x in result]\n",
    "reserve_tb['total_price_normalized'] = [x[1] for x in result]\n",
    "\n",
    "reserve_tb[[\n",
    "    'people_num',\n",
    "    'people_num_normalized',\n",
    "    'total_price',\n",
    "    'total_price_normalized'\n",
    "]]"
   ]
  },
  {
   "cell_type": "markdown",
   "metadata": {},
   "source": [
    "### 8.5. 예외값 제거\n",
    "예외값\n",
    "- 극단적으로 크거나 작은 값\n",
    "- 특수한 상황을 분석해야 한다면 예외값을 제거하면 안 됨\n",
    "- 정규본포 등의 계산식을 활용해 찾을 수 있음\n",
    "- 식 없이 데이터를 가시화해서 직접 찾을 수도 있음\n",
    "\n",
    "#### 표준편차 기준의 예외값 제거"
   ]
  },
  {
   "cell_type": "code",
   "execution_count": 43,
   "metadata": {},
   "outputs": [
    {
     "data": {
      "text/html": [
       "<div>\n",
       "<style scoped>\n",
       "    .dataframe tbody tr th:only-of-type {\n",
       "        vertical-align: middle;\n",
       "    }\n",
       "\n",
       "    .dataframe tbody tr th {\n",
       "        vertical-align: top;\n",
       "    }\n",
       "\n",
       "    .dataframe thead th {\n",
       "        text-align: right;\n",
       "    }\n",
       "</style>\n",
       "<table border=\"1\" class=\"dataframe\">\n",
       "  <thead>\n",
       "    <tr style=\"text-align: right;\">\n",
       "      <th></th>\n",
       "      <th>reserve_id</th>\n",
       "      <th>hotel_id</th>\n",
       "      <th>customer_id</th>\n",
       "      <th>reserve_datetime</th>\n",
       "      <th>checkin_date</th>\n",
       "      <th>checkin_time</th>\n",
       "      <th>checkout_date</th>\n",
       "      <th>people_num</th>\n",
       "      <th>total_price</th>\n",
       "    </tr>\n",
       "  </thead>\n",
       "  <tbody>\n",
       "    <tr>\n",
       "      <td>0</td>\n",
       "      <td>r1</td>\n",
       "      <td>h_75</td>\n",
       "      <td>c_1</td>\n",
       "      <td>2016-03-06 13:09:42</td>\n",
       "      <td>2016-03-26</td>\n",
       "      <td>10:00:00</td>\n",
       "      <td>2016-03-29</td>\n",
       "      <td>4</td>\n",
       "      <td>97200</td>\n",
       "    </tr>\n",
       "    <tr>\n",
       "      <td>1</td>\n",
       "      <td>r2</td>\n",
       "      <td>h_219</td>\n",
       "      <td>c_1</td>\n",
       "      <td>2016-07-16 23:39:55</td>\n",
       "      <td>2016-07-20</td>\n",
       "      <td>11:30:00</td>\n",
       "      <td>2016-07-21</td>\n",
       "      <td>2</td>\n",
       "      <td>20600</td>\n",
       "    </tr>\n",
       "    <tr>\n",
       "      <td>2</td>\n",
       "      <td>r3</td>\n",
       "      <td>h_179</td>\n",
       "      <td>c_1</td>\n",
       "      <td>2016-09-24 10:03:17</td>\n",
       "      <td>2016-10-19</td>\n",
       "      <td>09:00:00</td>\n",
       "      <td>2016-10-22</td>\n",
       "      <td>2</td>\n",
       "      <td>33600</td>\n",
       "    </tr>\n",
       "    <tr>\n",
       "      <td>3</td>\n",
       "      <td>r4</td>\n",
       "      <td>h_214</td>\n",
       "      <td>c_1</td>\n",
       "      <td>2017-03-08 03:20:10</td>\n",
       "      <td>2017-03-29</td>\n",
       "      <td>11:00:00</td>\n",
       "      <td>2017-03-30</td>\n",
       "      <td>4</td>\n",
       "      <td>194400</td>\n",
       "    </tr>\n",
       "    <tr>\n",
       "      <td>4</td>\n",
       "      <td>r5</td>\n",
       "      <td>h_16</td>\n",
       "      <td>c_1</td>\n",
       "      <td>2017-09-05 19:50:37</td>\n",
       "      <td>2017-09-22</td>\n",
       "      <td>10:30:00</td>\n",
       "      <td>2017-09-23</td>\n",
       "      <td>3</td>\n",
       "      <td>68100</td>\n",
       "    </tr>\n",
       "    <tr>\n",
       "      <td>...</td>\n",
       "      <td>...</td>\n",
       "      <td>...</td>\n",
       "      <td>...</td>\n",
       "      <td>...</td>\n",
       "      <td>...</td>\n",
       "      <td>...</td>\n",
       "      <td>...</td>\n",
       "      <td>...</td>\n",
       "      <td>...</td>\n",
       "    </tr>\n",
       "    <tr>\n",
       "      <td>4024</td>\n",
       "      <td>r4025</td>\n",
       "      <td>h_160</td>\n",
       "      <td>c_999</td>\n",
       "      <td>2017-03-11 11:56:05</td>\n",
       "      <td>2017-03-27</td>\n",
       "      <td>10:00:00</td>\n",
       "      <td>2017-03-30</td>\n",
       "      <td>1</td>\n",
       "      <td>37200</td>\n",
       "    </tr>\n",
       "    <tr>\n",
       "      <td>4025</td>\n",
       "      <td>r4026</td>\n",
       "      <td>h_129</td>\n",
       "      <td>c_999</td>\n",
       "      <td>2017-06-27 23:00:02</td>\n",
       "      <td>2017-07-10</td>\n",
       "      <td>09:30:00</td>\n",
       "      <td>2017-07-11</td>\n",
       "      <td>2</td>\n",
       "      <td>16000</td>\n",
       "    </tr>\n",
       "    <tr>\n",
       "      <td>4026</td>\n",
       "      <td>r4027</td>\n",
       "      <td>h_97</td>\n",
       "      <td>c_999</td>\n",
       "      <td>2017-09-29 05:24:57</td>\n",
       "      <td>2017-10-09</td>\n",
       "      <td>10:30:00</td>\n",
       "      <td>2017-10-10</td>\n",
       "      <td>2</td>\n",
       "      <td>41800</td>\n",
       "    </tr>\n",
       "    <tr>\n",
       "      <td>4027</td>\n",
       "      <td>r4028</td>\n",
       "      <td>h_27</td>\n",
       "      <td>c_999</td>\n",
       "      <td>2018-03-14 05:01:45</td>\n",
       "      <td>2018-04-02</td>\n",
       "      <td>11:30:00</td>\n",
       "      <td>2018-04-04</td>\n",
       "      <td>2</td>\n",
       "      <td>74800</td>\n",
       "    </tr>\n",
       "    <tr>\n",
       "      <td>4029</td>\n",
       "      <td>r4030</td>\n",
       "      <td>h_117</td>\n",
       "      <td>c_1000</td>\n",
       "      <td>2016-06-06 08:16:51</td>\n",
       "      <td>2016-07-06</td>\n",
       "      <td>09:00:00</td>\n",
       "      <td>2016-07-09</td>\n",
       "      <td>1</td>\n",
       "      <td>44100</td>\n",
       "    </tr>\n",
       "  </tbody>\n",
       "</table>\n",
       "<p>3932 rows × 9 columns</p>\n",
       "</div>"
      ],
      "text/plain": [
       "     reserve_id hotel_id customer_id     reserve_datetime checkin_date  \\\n",
       "0            r1     h_75         c_1  2016-03-06 13:09:42   2016-03-26   \n",
       "1            r2    h_219         c_1  2016-07-16 23:39:55   2016-07-20   \n",
       "2            r3    h_179         c_1  2016-09-24 10:03:17   2016-10-19   \n",
       "3            r4    h_214         c_1  2017-03-08 03:20:10   2017-03-29   \n",
       "4            r5     h_16         c_1  2017-09-05 19:50:37   2017-09-22   \n",
       "...         ...      ...         ...                  ...          ...   \n",
       "4024      r4025    h_160       c_999  2017-03-11 11:56:05   2017-03-27   \n",
       "4025      r4026    h_129       c_999  2017-06-27 23:00:02   2017-07-10   \n",
       "4026      r4027     h_97       c_999  2017-09-29 05:24:57   2017-10-09   \n",
       "4027      r4028     h_27       c_999  2018-03-14 05:01:45   2018-04-02   \n",
       "4029      r4030    h_117      c_1000  2016-06-06 08:16:51   2016-07-06   \n",
       "\n",
       "     checkin_time checkout_date  people_num  total_price  \n",
       "0        10:00:00    2016-03-29           4        97200  \n",
       "1        11:30:00    2016-07-21           2        20600  \n",
       "2        09:00:00    2016-10-22           2        33600  \n",
       "3        11:00:00    2017-03-30           4       194400  \n",
       "4        10:30:00    2017-09-23           3        68100  \n",
       "...           ...           ...         ...          ...  \n",
       "4024     10:00:00    2017-03-30           1        37200  \n",
       "4025     09:30:00    2017-07-11           2        16000  \n",
       "4026     10:30:00    2017-10-10           2        41800  \n",
       "4027     11:30:00    2018-04-04           2        74800  \n",
       "4029     09:00:00    2016-07-09           1        44100  \n",
       "\n",
       "[3932 rows x 9 columns]"
      ]
     },
     "execution_count": 43,
     "metadata": {},
     "output_type": "execute_result"
    }
   ],
   "source": [
    "reserve_tb_without_outlier = reserve_tb[(\n",
    "    abs(\n",
    "        reserve_tb['total_price'] -\n",
    "        np.mean(reserve_tb['total_price'])\n",
    "    ) / np.std(reserve_tb['total_price'])\n",
    "    <= 3\n",
    ")]\n",
    "reserve_tb_without_outlier"
   ]
  },
  {
   "cell_type": "markdown",
   "metadata": {},
   "source": [
    "### 8.6. 주성분 분석을 이용한 차원 압축\n",
    "주성분 분석\n",
    "- 여러 종류의 입력값을 적은 종류의 입력값으로 압축\n",
    "- 압축 후 차원 수는 기여율의 합계값(누적 기여율)을 기준으로 정함\n",
    "- 데이터 가시화가 쉬움\n",
    "- 새로운 차원에서 또다른 발견을 할 수도 있음\n",
    "- 선형모델에서 과학습을 방지할 수 있음 (다른 방법도 많음)\n",
    "- 비선형모델에서 정보 손실로 정확도가 떨어질 수 있음\n",
    "\n",
    "#### 주성분 분석을 이용한 차원 압축"
   ]
  },
  {
   "cell_type": "code",
   "execution_count": 49,
   "metadata": {},
   "outputs": [
    {
     "name": "stdout",
     "output_type": "stream",
     "text": [
      "누적기여율 1.0\n",
      "각차원기여율 [0.97897794 0.02102206]\n"
     ]
    },
    {
     "data": {
      "text/plain": [
       "array([[  76.96838157,  -13.38906936],\n",
       "       [-112.11469337,   -8.24884796],\n",
       "       [ -76.1994339 ,   11.19027127],\n",
       "       ...,\n",
       "       [  31.12100559,   15.48152593],\n",
       "       [-117.87675543,    2.4361334 ],\n",
       "       [   4.80243541,  -15.32174872]])"
      ]
     },
     "execution_count": 49,
     "metadata": {},
     "output_type": "execute_result"
    }
   ],
   "source": [
    "from sklearn.decomposition import PCA\n",
    "\n",
    "pca = PCA(n_components=2)\n",
    "pca_values = pca.fit_transform(production_tb[['length', 'thickness']])\n",
    "\n",
    "print('누적기여율 {0}'.format(sum(pca.explained_variance_ratio_)))\n",
    "print('각차원기여율 {0}'.format(pca.explained_variance_ratio_))\n",
    "\n",
    "pca_newvalues = pca.transform(production_tb[['length', 'thickness']])\n",
    "pca_newvalues"
   ]
  },
  {
   "cell_type": "markdown",
   "metadata": {},
   "source": [
    "### 8.7. 수치의 보완\n",
    "\n",
    "- 정수로 보완  \n",
    "결손값이 많을 때는 비추천\n",
    "- 집계값으로 보완  \n",
    "평균값/중앙값/최소값/최대값\n",
    "결손값이 많을 때는 비추천\n",
    "- 결손되지 않은 데이터를 이용한 보완\n",
    "- 시간관계를 이용해 보완\n",
    "- 다중대입법으로 보완  \n",
    "보완한 데이터셋을 여러 개 만들어 각 데이터셋을 해석\n",
    "- 최대 가능도로 보완  \n",
    "잠재 변수를 도입해 EM 알고리즘을 사용, 가능도를 최대화하여 결손값을 보완\n",
    "\n",
    "#### 결손 레코드 제거"
   ]
  },
  {
   "cell_type": "code",
   "execution_count": 58,
   "metadata": {},
   "outputs": [],
   "source": [
    "production_miss_num = production_miss_num_tb.copy()\n",
    "production_miss_num.replace('None', np.nan, inplace=True)\n",
    "production_miss_num.dropna(subset=['thickness'], inplace=True)"
   ]
  },
  {
   "cell_type": "markdown",
   "metadata": {},
   "source": [
    "#### 정수 보완"
   ]
  },
  {
   "cell_type": "code",
   "execution_count": 59,
   "metadata": {},
   "outputs": [],
   "source": [
    "production_miss_num = production_miss_num_tb.copy()\n",
    "production_miss_num.replace('None', np.nan, inplace=True)\n",
    "production_miss_num['thickness'].fillna(1, inplace=True)"
   ]
  },
  {
   "cell_type": "markdown",
   "metadata": {},
   "source": [
    "#### 평균값 보완"
   ]
  },
  {
   "cell_type": "code",
   "execution_count": 60,
   "metadata": {},
   "outputs": [],
   "source": [
    "production_miss_num = production_miss_num_tb.copy()\n",
    "production_miss_num.replace('None', np.nan, inplace=True)\n",
    "production_miss_num['thickness'] = \\\n",
    "    production_miss_num['thickness'].astype('float64')\n",
    "thickness_mean = production_miss_num['thickness'].mean()\n",
    "production_miss_num['thickness'].fillna(thickness_mean, inplace=True)"
   ]
  },
  {
   "cell_type": "markdown",
   "metadata": {},
   "source": [
    "#### PMM을 이용한 다중대입"
   ]
  },
  {
   "cell_type": "code",
   "execution_count": 9,
   "metadata": {},
   "outputs": [
    {
     "ename": "TypeError",
     "evalue": "__init__() got an unexpected keyword argument 'n_burn_in'",
     "output_type": "error",
     "traceback": [
      "\u001b[0;31m---------------------------------------------------------------------------\u001b[0m",
      "\u001b[0;31mTypeError\u001b[0m                                 Traceback (most recent call last)",
      "\u001b[0;32m<ipython-input-9-7405ff22f6e4>\u001b[0m in \u001b[0;36m<module>\u001b[0;34m\u001b[0m\n\u001b[1;32m     15\u001b[0m )\n\u001b[1;32m     16\u001b[0m \u001b[0;34m\u001b[0m\u001b[0m\n\u001b[0;32m---> 17\u001b[0;31m \u001b[0mmice\u001b[0m \u001b[0;34m=\u001b[0m \u001b[0mMICE\u001b[0m\u001b[0;34m(\u001b[0m\u001b[0mn_burn_in\u001b[0m\u001b[0;34m=\u001b[0m\u001b[0;36m50\u001b[0m\u001b[0;34m,\u001b[0m \u001b[0mimpute_type\u001b[0m\u001b[0;34m=\u001b[0m\u001b[0;34m'pmm'\u001b[0m\u001b[0;34m)\u001b[0m\u001b[0;34m\u001b[0m\u001b[0;34m\u001b[0m\u001b[0m\n\u001b[0m\u001b[1;32m     18\u001b[0m \u001b[0;34m\u001b[0m\u001b[0m\n\u001b[1;32m     19\u001b[0m production_mice = mice.multiple_imputations(\n",
      "\u001b[0;31mTypeError\u001b[0m: __init__() got an unexpected keyword argument 'n_burn_in'"
     ]
    }
   ],
   "source": [
    "from fancyimpute import IterativeImputer as MICE\n",
    "\n",
    "production_miss_num = production_miss_num_tb.copy()\n",
    "production_miss_num.replace('None', np.nan, inplace=True)\n",
    "\n",
    "production_miss_num['thickness'] = \\\n",
    "    production_miss_num['thickness'].astype('float64')\n",
    "production_miss_num['type'] = \\\n",
    "    production_miss_num['type'].astype('category')\n",
    "production_miss_num['fault_flg'] = \\\n",
    "    production_miss_num['fault_flg'].astype('category')\n",
    "    \n",
    "production_dummy_flg = pd.get_dummies(\n",
    "    production_miss_num[['type', 'fault_flg']], drop_first=True\n",
    ")\n",
    "\n",
    "# FIXME\n",
    "mice = MICE(n_imputations=10, n_burn_in=50, impute_type='pmm')\n",
    "\n",
    "production_mice = mice.multiple_imputations(\n",
    "    pd.concat(\n",
    "        [\n",
    "            production_miss_num[['length', 'thickness']],\n",
    "            production_dummy_flg\n",
    "        ],\n",
    "        axis=1\n",
    "    )\n",
    ")\n",
    "\n",
    "production_mice[0]"
   ]
  }
 ],
 "metadata": {
  "kernelspec": {
   "display_name": "Python 3",
   "language": "python",
   "name": "python3"
  },
  "language_info": {
   "codemirror_mode": {
    "name": "ipython",
    "version": 3
   },
   "file_extension": ".py",
   "mimetype": "text/x-python",
   "name": "python",
   "nbconvert_exporter": "python",
   "pygments_lexer": "ipython3",
   "version": "3.7.4"
  }
 },
 "nbformat": 4,
 "nbformat_minor": 2
}
