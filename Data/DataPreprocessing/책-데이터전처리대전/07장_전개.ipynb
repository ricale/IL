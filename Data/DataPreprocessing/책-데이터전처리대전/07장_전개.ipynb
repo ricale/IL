{
 "cells": [
  {
   "cell_type": "code",
   "execution_count": 1,
   "metadata": {},
   "outputs": [],
   "source": [
    "import pandas as pd\n",
    "import numpy as np"
   ]
  },
  {
   "cell_type": "code",
   "execution_count": 4,
   "metadata": {},
   "outputs": [],
   "source": [
    "reserve_tb = pd.read_csv('./data/reserve.csv', encoding='UTF-8')"
   ]
  },
  {
   "cell_type": "markdown",
   "metadata": {},
   "source": [
    "## 7. 전개\n",
    "데이터 집계 결과를 표 형식으로 변환\n",
    "\n",
    "### 7.1. 가로 데이터로 변환\n",
    "레코드 형식 -> 표 형식"
   ]
  },
  {
   "cell_type": "code",
   "execution_count": 5,
   "metadata": {},
   "outputs": [
    {
     "data": {
      "text/html": [
       "<div>\n",
       "<style scoped>\n",
       "    .dataframe tbody tr th:only-of-type {\n",
       "        vertical-align: middle;\n",
       "    }\n",
       "\n",
       "    .dataframe tbody tr th {\n",
       "        vertical-align: top;\n",
       "    }\n",
       "\n",
       "    .dataframe thead th {\n",
       "        text-align: right;\n",
       "    }\n",
       "</style>\n",
       "<table border=\"1\" class=\"dataframe\">\n",
       "  <thead>\n",
       "    <tr style=\"text-align: right;\">\n",
       "      <th>people_num</th>\n",
       "      <th>1</th>\n",
       "      <th>2</th>\n",
       "      <th>3</th>\n",
       "      <th>4</th>\n",
       "    </tr>\n",
       "    <tr>\n",
       "      <th>customer_id</th>\n",
       "      <th></th>\n",
       "      <th></th>\n",
       "      <th></th>\n",
       "      <th></th>\n",
       "    </tr>\n",
       "  </thead>\n",
       "  <tbody>\n",
       "    <tr>\n",
       "      <td>c_1</td>\n",
       "      <td>2</td>\n",
       "      <td>2</td>\n",
       "      <td>2</td>\n",
       "      <td>2</td>\n",
       "    </tr>\n",
       "    <tr>\n",
       "      <td>c_10</td>\n",
       "      <td>0</td>\n",
       "      <td>2</td>\n",
       "      <td>2</td>\n",
       "      <td>2</td>\n",
       "    </tr>\n",
       "    <tr>\n",
       "      <td>c_100</td>\n",
       "      <td>2</td>\n",
       "      <td>1</td>\n",
       "      <td>2</td>\n",
       "      <td>0</td>\n",
       "    </tr>\n",
       "    <tr>\n",
       "      <td>c_1000</td>\n",
       "      <td>1</td>\n",
       "      <td>0</td>\n",
       "      <td>0</td>\n",
       "      <td>1</td>\n",
       "    </tr>\n",
       "    <tr>\n",
       "      <td>c_101</td>\n",
       "      <td>2</td>\n",
       "      <td>1</td>\n",
       "      <td>1</td>\n",
       "      <td>1</td>\n",
       "    </tr>\n",
       "    <tr>\n",
       "      <td>...</td>\n",
       "      <td>...</td>\n",
       "      <td>...</td>\n",
       "      <td>...</td>\n",
       "      <td>...</td>\n",
       "    </tr>\n",
       "    <tr>\n",
       "      <td>c_994</td>\n",
       "      <td>1</td>\n",
       "      <td>0</td>\n",
       "      <td>0</td>\n",
       "      <td>0</td>\n",
       "    </tr>\n",
       "    <tr>\n",
       "      <td>c_995</td>\n",
       "      <td>2</td>\n",
       "      <td>2</td>\n",
       "      <td>1</td>\n",
       "      <td>3</td>\n",
       "    </tr>\n",
       "    <tr>\n",
       "      <td>c_996</td>\n",
       "      <td>0</td>\n",
       "      <td>4</td>\n",
       "      <td>3</td>\n",
       "      <td>0</td>\n",
       "    </tr>\n",
       "    <tr>\n",
       "      <td>c_997</td>\n",
       "      <td>0</td>\n",
       "      <td>1</td>\n",
       "      <td>1</td>\n",
       "      <td>0</td>\n",
       "    </tr>\n",
       "    <tr>\n",
       "      <td>c_999</td>\n",
       "      <td>1</td>\n",
       "      <td>3</td>\n",
       "      <td>1</td>\n",
       "      <td>1</td>\n",
       "    </tr>\n",
       "  </tbody>\n",
       "</table>\n",
       "<p>888 rows × 4 columns</p>\n",
       "</div>"
      ],
      "text/plain": [
       "people_num   1  2  3  4\n",
       "customer_id            \n",
       "c_1          2  2  2  2\n",
       "c_10         0  2  2  2\n",
       "c_100        2  1  2  0\n",
       "c_1000       1  0  0  1\n",
       "c_101        2  1  1  1\n",
       "...         .. .. .. ..\n",
       "c_994        1  0  0  0\n",
       "c_995        2  2  1  3\n",
       "c_996        0  4  3  0\n",
       "c_997        0  1  1  0\n",
       "c_999        1  3  1  1\n",
       "\n",
       "[888 rows x 4 columns]"
      ]
     },
     "execution_count": 5,
     "metadata": {},
     "output_type": "execute_result"
    }
   ],
   "source": [
    "pd.pivot_table(\n",
    "    reserve_tb,\n",
    "    index='customer_id',\n",
    "    columns='people_num',\n",
    "    values='reserve_id',\n",
    "    aggfunc=lambda x: len(x),\n",
    "    fill_value=0\n",
    ")"
   ]
  },
  {
   "cell_type": "markdown",
   "metadata": {},
   "source": [
    "### 7.2. 희소 행렬로 변환\n",
    "희소 행렬: 대부분 요소의 값이 0이고 극히 일부만 값을 가지는 거대한 행렬"
   ]
  },
  {
   "cell_type": "code",
   "execution_count": 9,
   "metadata": {},
   "outputs": [
    {
     "data": {
      "text/plain": [
       "[c_1, c_10, c_100, c_1000, c_101, ..., c_994, c_995, c_996, c_997, c_999]\n",
       "Length: 888\n",
       "Categories (888, object): [c_1, c_10, c_100, c_1000, ..., c_995, c_996, c_997, c_999]"
      ]
     },
     "execution_count": 9,
     "metadata": {},
     "output_type": "execute_result"
    }
   ],
   "source": [
    "from scipy.sparse import csc_matrix\n",
    "\n",
    "cnt_tb = reserve_tb \\\n",
    "    .groupby(['customer_id', 'people_num'])['reserve_id'].size() \\\n",
    "    .reset_index()\n",
    "cnt_tb.columns = ['customer_id', 'people_num', 'rsv_cnt']\n",
    "\n",
    "customer_id = pd.Categorical(cnt_tb['customer_id'])\n",
    "people_num = pd.Categorical(cnt_tb['people_num'])\n",
    "\n",
    "customer_id"
   ]
  },
  {
   "cell_type": "code",
   "execution_count": 7,
   "metadata": {},
   "outputs": [
    {
     "name": "stdout",
     "output_type": "stream",
     "text": [
      "  (0, 0)\t2\n",
      "  (2, 0)\t2\n",
      "  (3, 0)\t1\n",
      "  (4, 0)\t2\n",
      "  (6, 0)\t3\n",
      "  (9, 0)\t2\n",
      "  (10, 0)\t3\n",
      "  (11, 0)\t4\n",
      "  (13, 0)\t1\n",
      "  (16, 0)\t1\n",
      "  (18, 0)\t1\n",
      "  (19, 0)\t3\n",
      "  (20, 0)\t1\n",
      "  (21, 0)\t1\n",
      "  (22, 0)\t2\n",
      "  (23, 0)\t1\n",
      "  (24, 0)\t4\n",
      "  (25, 0)\t2\n",
      "  (27, 0)\t2\n",
      "  (29, 0)\t2\n",
      "  (30, 0)\t3\n",
      "  (32, 0)\t1\n",
      "  (36, 0)\t1\n",
      "  (37, 0)\t1\n",
      "  (40, 0)\t1\n",
      "  :\t:\n",
      "  (850, 3)\t1\n",
      "  (852, 3)\t1\n",
      "  (853, 3)\t1\n",
      "  (856, 3)\t2\n",
      "  (857, 3)\t1\n",
      "  (858, 3)\t3\n",
      "  (859, 3)\t3\n",
      "  (862, 3)\t1\n",
      "  (863, 3)\t1\n",
      "  (864, 3)\t1\n",
      "  (866, 3)\t1\n",
      "  (867, 3)\t1\n",
      "  (868, 3)\t1\n",
      "  (869, 3)\t3\n",
      "  (870, 3)\t2\n",
      "  (871, 3)\t1\n",
      "  (875, 3)\t1\n",
      "  (876, 3)\t2\n",
      "  (877, 3)\t1\n",
      "  (878, 3)\t1\n",
      "  (879, 3)\t4\n",
      "  (880, 3)\t2\n",
      "  (881, 3)\t3\n",
      "  (884, 3)\t3\n",
      "  (887, 3)\t1\n"
     ]
    }
   ],
   "source": [
    "result = csc_matrix(\n",
    "    (cnt_tb['rsv_cnt'], (customer_id.codes, people_num.codes)),\n",
    "    shape=(len(customer_id.categories), len(people_num.categories))\n",
    ")\n",
    "print(result)"
   ]
  }
 ],
 "metadata": {
  "kernelspec": {
   "display_name": "Python 3",
   "language": "python",
   "name": "python3"
  },
  "language_info": {
   "codemirror_mode": {
    "name": "ipython",
    "version": 3
   },
   "file_extension": ".py",
   "mimetype": "text/x-python",
   "name": "python",
   "nbconvert_exporter": "python",
   "pygments_lexer": "ipython3",
   "version": "3.7.4"
  }
 },
 "nbformat": 4,
 "nbformat_minor": 2
}
