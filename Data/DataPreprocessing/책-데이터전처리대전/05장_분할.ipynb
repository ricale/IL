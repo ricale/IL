{
 "cells": [
  {
   "cell_type": "code",
   "execution_count": 1,
   "metadata": {},
   "outputs": [],
   "source": [
    "import pandas as pd\n",
    "import numpy as np"
   ]
  },
  {
   "cell_type": "code",
   "execution_count": 2,
   "metadata": {},
   "outputs": [],
   "source": [
    "production_tb = pd.read_csv('./data/production.csv', encoding='UTF-8')"
   ]
  },
  {
   "cell_type": "code",
   "execution_count": 3,
   "metadata": {},
   "outputs": [],
   "source": [
    "monthly_index_tb = pd.read_csv('./data/monthly_index.csv', encoding='UTF-8')"
   ]
  },
  {
   "cell_type": "markdown",
   "metadata": {},
   "source": [
    "## 5. 분할\n",
    "### 5.1. 모델 검증을 위한 레코드 분할\n",
    "#### 교차 검증\n",
    "홀드아웃 검증"
   ]
  },
  {
   "cell_type": "code",
   "execution_count": 4,
   "metadata": {},
   "outputs": [],
   "source": [
    "from sklearn.model_selection import train_test_split\n",
    "from sklearn.model_selection import KFold\n",
    "\n",
    "train_data, test_data, train_target, test_target = \\\n",
    "    train_test_split(production_tb.drop('fault_flg', axis=1),\n",
    "                     production_tb[['fault_flg']],\n",
    "                     test_size=0.2)\n",
    "\n",
    "train_data.reset_index(inplace=True, drop=True)\n",
    "test_data.reset_index(inplace=True, drop=True)\n",
    "train_target.reset_index(inplace=True, drop=True)\n",
    "test_target.reset_index(inplace=True, drop=True)"
   ]
  },
  {
   "cell_type": "code",
   "execution_count": 5,
   "metadata": {},
   "outputs": [],
   "source": [
    "row_no_list = list(range(len(train_target)))\n",
    "k_fold = KFold(n_splits=4, shuffle=True)\n",
    "\n",
    "for train_cv_no, test_cv_no in k_fold.split(row_no_list):\n",
    "    train_cv = train_data.iloc[train_cv_no, :]\n",
    "    test_cv = train_data.iloc[test_cv_no, :]"
   ]
  },
  {
   "cell_type": "markdown",
   "metadata": {},
   "source": [
    "### 5.2. 모델 검증을 위한 시간 데이터 분할\n",
    "학습 기간이 일정한 패턴\n",
    "\n",
    " 1| 2| 3| 4| 5| 6| 7| 8| 9|10|11|12\n",
    "--|--|--|--|--|--|--|--|--|--|--|--\n",
    "학습|학습|학습|학습|학습|학습|검증|검증|  |  |  |  \n",
    "  |  |학습|학습|학습|학습|학습|학습|검증|검증|  |  \n",
    "  |  |  |  |학습|학습|학습|학습|학습|학습|검증|검증\n",
    "\n",
    "학습 기간이 늘어나는 패턴\n",
    "\n",
    " 1| 2| 3| 4| 5| 6| 7| 8| 9|10|11|12\n",
    "--|--|--|--|--|--|--|--|--|--|--|--\n",
    "학습|학습|학습|학습|학습|학습|검증|검증|  |  |  |  \n",
    "학습|학습|학습|학습|학습|학습|학습|학습|검증|검증|  |  \n",
    "학습|학습|학습|학습|학습|학습|학습|학습|학습|학습|검증|검증\n",
    "\n",
    "\n",
    "#### 학습 및 검증을 위한 시간 데이터 준비"
   ]
  },
  {
   "cell_type": "code",
   "execution_count": 6,
   "metadata": {},
   "outputs": [
    {
     "name": "stdout",
     "output_type": "stream",
     "text": [
      "1 24 25 36\n",
      "13 36 37 48\n",
      "25 48 49 60\n",
      "37 60 61 72\n",
      "49 72 73 84\n",
      "61 84 85 96\n",
      "73 96 97 108\n",
      "85 108 109 120\n"
     ]
    }
   ],
   "source": [
    "train_window_start = 1\n",
    "train_window_end = 24\n",
    "horizon = 12\n",
    "skip = 12\n",
    "\n",
    "monthly_index_tb.sort_values(by='year_month')\n",
    "\n",
    "while True:\n",
    "    test_window_end = train_window_end + horizon\n",
    "    \n",
    "    print(train_window_start, train_window_end, train_window_end+1, test_window_end)\n",
    "    \n",
    "    train = monthly_index_tb[train_window_start:train_window_end]\n",
    "    test = monthly_index_tb[(train_window_end+1):test_window_end]\n",
    "    \n",
    "    if test_window_end >= len(monthly_index_tb.index):\n",
    "        break\n",
    "        \n",
    "    train_window_start += skip\n",
    "    train_window_end += skip"
   ]
  }
 ],
 "metadata": {
  "kernelspec": {
   "display_name": "Python 3",
   "language": "python",
   "name": "python3"
  },
  "language_info": {
   "codemirror_mode": {
    "name": "ipython",
    "version": 3
   },
   "file_extension": ".py",
   "mimetype": "text/x-python",
   "name": "python",
   "nbconvert_exporter": "python",
   "pygments_lexer": "ipython3",
   "version": "3.7.4"
  }
 },
 "nbformat": 4,
 "nbformat_minor": 2
}
