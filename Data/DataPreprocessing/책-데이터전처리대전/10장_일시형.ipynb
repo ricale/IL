{
 "cells": [
  {
   "cell_type": "code",
   "execution_count": 1,
   "metadata": {},
   "outputs": [],
   "source": [
    "import pandas as pd\n",
    "import numpy as np"
   ]
  },
  {
   "cell_type": "code",
   "execution_count": 2,
   "metadata": {},
   "outputs": [],
   "source": [
    "reserve_tb = pd.read_csv('./data/reserve.csv', encoding='UTF-8')"
   ]
  },
  {
   "cell_type": "code",
   "execution_count": 41,
   "metadata": {},
   "outputs": [],
   "source": [
    "holiday_mst = pd.read_csv('./data/holiday_mst.csv', encoding='UTF-8')"
   ]
  },
  {
   "cell_type": "markdown",
   "metadata": {},
   "source": [
    "## 10. 일시형\n",
    "\n",
    "### 10.1. 일시형과 날짜형으로 변환\n",
    "\n",
    "#### 일시형과 날짜형으로 변환"
   ]
  },
  {
   "cell_type": "code",
   "execution_count": 3,
   "metadata": {},
   "outputs": [
    {
     "data": {
      "text/plain": [
       "0      2016-03-06 13:09:42\n",
       "1      2016-07-16 23:39:55\n",
       "2      2016-09-24 10:03:17\n",
       "3      2017-03-08 03:20:10\n",
       "4      2017-09-05 19:50:37\n",
       "               ...        \n",
       "4025   2017-06-27 23:00:02\n",
       "4026   2017-09-29 05:24:57\n",
       "4027   2018-03-14 05:01:45\n",
       "4028   2016-04-16 15:20:17\n",
       "4029   2016-06-06 08:16:51\n",
       "Name: reserve_datetime, Length: 4030, dtype: datetime64[ns]"
      ]
     },
     "execution_count": 3,
     "metadata": {},
     "output_type": "execute_result"
    }
   ],
   "source": [
    "pd.to_datetime(reserve_tb['reserve_datetime'], format='%Y-%m-%d %H:%M:%S')"
   ]
  },
  {
   "cell_type": "code",
   "execution_count": 5,
   "metadata": {},
   "outputs": [
    {
     "data": {
      "text/plain": [
       "0      2016-03-26 10:00:00\n",
       "1      2016-07-20 11:30:00\n",
       "2      2016-10-19 09:00:00\n",
       "3      2017-03-29 11:00:00\n",
       "4      2017-09-22 10:30:00\n",
       "               ...        \n",
       "4025   2017-07-10 09:30:00\n",
       "4026   2017-10-09 10:30:00\n",
       "4027   2018-04-02 11:30:00\n",
       "4028   2016-05-10 09:30:00\n",
       "4029   2016-07-06 09:00:00\n",
       "Length: 4030, dtype: datetime64[ns]"
      ]
     },
     "execution_count": 5,
     "metadata": {},
     "output_type": "execute_result"
    }
   ],
   "source": [
    "pd.to_datetime(\n",
    "    reserve_tb['checkin_date'] + reserve_tb['checkin_time'],\n",
    "    format='%Y-%m-%d%H:%M:%S'\n",
    ")"
   ]
  },
  {
   "cell_type": "code",
   "execution_count": 6,
   "metadata": {},
   "outputs": [
    {
     "data": {
      "text/plain": [
       "0       2016-03-06\n",
       "1       2016-07-16\n",
       "2       2016-09-24\n",
       "3       2017-03-08\n",
       "4       2017-09-05\n",
       "           ...    \n",
       "4025    2017-06-27\n",
       "4026    2017-09-29\n",
       "4027    2018-03-14\n",
       "4028    2016-04-16\n",
       "4029    2016-06-06\n",
       "Name: reserve_datetime, Length: 4030, dtype: object"
      ]
     },
     "execution_count": 6,
     "metadata": {},
     "output_type": "execute_result"
    }
   ],
   "source": [
    "pd.to_datetime(\n",
    "    reserve_tb['reserve_datetime'],\n",
    "    format='%Y-%m-%d %H:%M:%S'\n",
    ").dt.date"
   ]
  },
  {
   "cell_type": "code",
   "execution_count": 8,
   "metadata": {},
   "outputs": [
    {
     "data": {
      "text/plain": [
       "0       00:00:00\n",
       "1       00:00:00\n",
       "2       00:00:00\n",
       "3       00:00:00\n",
       "4       00:00:00\n",
       "          ...   \n",
       "4025    00:00:00\n",
       "4026    00:00:00\n",
       "4027    00:00:00\n",
       "4028    00:00:00\n",
       "4029    00:00:00\n",
       "Name: checkin_date, Length: 4030, dtype: object"
      ]
     },
     "execution_count": 8,
     "metadata": {},
     "output_type": "execute_result"
    }
   ],
   "source": [
    "pd.to_datetime(reserve_tb['checkin_date'], format='%Y-%m-%d').dt.time"
   ]
  },
  {
   "cell_type": "markdown",
   "metadata": {},
   "source": [
    "### 10.2. 연월일시각분초요일로 변환"
   ]
  },
  {
   "cell_type": "code",
   "execution_count": 9,
   "metadata": {},
   "outputs": [],
   "source": [
    "reserve_tb['reserve_datetime'] = pd.to_datetime(\n",
    "    reserve_tb['reserve_datetime'], format='%Y-%m-%d %H:%M:%S'\n",
    ")"
   ]
  },
  {
   "cell_type": "code",
   "execution_count": 10,
   "metadata": {},
   "outputs": [
    {
     "data": {
      "text/plain": [
       "0       2016\n",
       "1       2016\n",
       "2       2016\n",
       "3       2017\n",
       "4       2017\n",
       "        ... \n",
       "4025    2017\n",
       "4026    2017\n",
       "4027    2018\n",
       "4028    2016\n",
       "4029    2016\n",
       "Name: reserve_datetime, Length: 4030, dtype: int64"
      ]
     },
     "execution_count": 10,
     "metadata": {},
     "output_type": "execute_result"
    }
   ],
   "source": [
    "reserve_tb['reserve_datetime'].dt.year"
   ]
  },
  {
   "cell_type": "code",
   "execution_count": 11,
   "metadata": {},
   "outputs": [
    {
     "data": {
      "text/plain": [
       "0       3\n",
       "1       7\n",
       "2       9\n",
       "3       3\n",
       "4       9\n",
       "       ..\n",
       "4025    6\n",
       "4026    9\n",
       "4027    3\n",
       "4028    4\n",
       "4029    6\n",
       "Name: reserve_datetime, Length: 4030, dtype: int64"
      ]
     },
     "execution_count": 11,
     "metadata": {},
     "output_type": "execute_result"
    }
   ],
   "source": [
    "reserve_tb['reserve_datetime'].dt.month"
   ]
  },
  {
   "cell_type": "code",
   "execution_count": 12,
   "metadata": {},
   "outputs": [
    {
     "data": {
      "text/plain": [
       "0        6\n",
       "1       16\n",
       "2       24\n",
       "3        8\n",
       "4        5\n",
       "        ..\n",
       "4025    27\n",
       "4026    29\n",
       "4027    14\n",
       "4028    16\n",
       "4029     6\n",
       "Name: reserve_datetime, Length: 4030, dtype: int64"
      ]
     },
     "execution_count": 12,
     "metadata": {},
     "output_type": "execute_result"
    }
   ],
   "source": [
    "reserve_tb['reserve_datetime'].dt.day"
   ]
  },
  {
   "cell_type": "code",
   "execution_count": 13,
   "metadata": {},
   "outputs": [
    {
     "data": {
      "text/plain": [
       "0       6\n",
       "1       5\n",
       "2       5\n",
       "3       2\n",
       "4       1\n",
       "       ..\n",
       "4025    1\n",
       "4026    4\n",
       "4027    2\n",
       "4028    5\n",
       "4029    0\n",
       "Name: reserve_datetime, Length: 4030, dtype: int64"
      ]
     },
     "execution_count": 13,
     "metadata": {},
     "output_type": "execute_result"
    }
   ],
   "source": [
    "# sun=0, mon=1, ...\n",
    "reserve_tb['reserve_datetime'].dt.dayofweek"
   ]
  },
  {
   "cell_type": "code",
   "execution_count": 14,
   "metadata": {},
   "outputs": [
    {
     "data": {
      "text/plain": [
       "0       13\n",
       "1       23\n",
       "2       10\n",
       "3        3\n",
       "4       19\n",
       "        ..\n",
       "4025    23\n",
       "4026     5\n",
       "4027     5\n",
       "4028    15\n",
       "4029     8\n",
       "Name: reserve_datetime, Length: 4030, dtype: int64"
      ]
     },
     "execution_count": 14,
     "metadata": {},
     "output_type": "execute_result"
    }
   ],
   "source": [
    "reserve_tb['reserve_datetime'].dt.hour"
   ]
  },
  {
   "cell_type": "code",
   "execution_count": 15,
   "metadata": {},
   "outputs": [
    {
     "data": {
      "text/plain": [
       "0        9\n",
       "1       39\n",
       "2        3\n",
       "3       20\n",
       "4       50\n",
       "        ..\n",
       "4025     0\n",
       "4026    24\n",
       "4027     1\n",
       "4028    20\n",
       "4029    16\n",
       "Name: reserve_datetime, Length: 4030, dtype: int64"
      ]
     },
     "execution_count": 15,
     "metadata": {},
     "output_type": "execute_result"
    }
   ],
   "source": [
    "reserve_tb['reserve_datetime'].dt.minute"
   ]
  },
  {
   "cell_type": "code",
   "execution_count": 16,
   "metadata": {},
   "outputs": [
    {
     "data": {
      "text/plain": [
       "0       42\n",
       "1       55\n",
       "2       17\n",
       "3       10\n",
       "4       37\n",
       "        ..\n",
       "4025     2\n",
       "4026    57\n",
       "4027    45\n",
       "4028    17\n",
       "4029    51\n",
       "Name: reserve_datetime, Length: 4030, dtype: int64"
      ]
     },
     "execution_count": 16,
     "metadata": {},
     "output_type": "execute_result"
    }
   ],
   "source": [
    "reserve_tb['reserve_datetime'].dt.second"
   ]
  },
  {
   "cell_type": "code",
   "execution_count": 17,
   "metadata": {},
   "outputs": [
    {
     "data": {
      "text/plain": [
       "0       2016-03-06 13:09:42\n",
       "1       2016-07-16 23:39:55\n",
       "2       2016-09-24 10:03:17\n",
       "3       2017-03-08 03:20:10\n",
       "4       2017-09-05 19:50:37\n",
       "               ...         \n",
       "4025    2017-06-27 23:00:02\n",
       "4026    2017-09-29 05:24:57\n",
       "4027    2018-03-14 05:01:45\n",
       "4028    2016-04-16 15:20:17\n",
       "4029    2016-06-06 08:16:51\n",
       "Name: reserve_datetime, Length: 4030, dtype: object"
      ]
     },
     "execution_count": 17,
     "metadata": {},
     "output_type": "execute_result"
    }
   ],
   "source": [
    "reserve_tb['reserve_datetime'].dt.strftime('%Y-%m-%d %H:%M:%S')"
   ]
  },
  {
   "cell_type": "markdown",
   "metadata": {},
   "source": [
    "### 10.3. 일시의 차이로 변환\n",
    "#### 일시 차이 계산"
   ]
  },
  {
   "cell_type": "code",
   "execution_count": 19,
   "metadata": {},
   "outputs": [
    {
     "data": {
      "text/plain": [
       "0       0\n",
       "1       0\n",
       "2       0\n",
       "3       0\n",
       "4       0\n",
       "       ..\n",
       "4025    0\n",
       "4026    0\n",
       "4027    0\n",
       "4028    0\n",
       "4029    0\n",
       "Length: 4030, dtype: int64"
      ]
     },
     "execution_count": 19,
     "metadata": {},
     "output_type": "execute_result"
    }
   ],
   "source": [
    "reserve_tb['reserve_datetime'] = \\\n",
    "    pd.to_datetime(\n",
    "        reserve_tb['reserve_datetime'],\n",
    "        format='%Y-%m-%d %H:%M:%S'\n",
    "    )\n",
    "\n",
    "reserve_tb['checkin_datetime'] = \\\n",
    "    pd.to_datetime(\n",
    "        reserve_tb['checkin_date'] + reserve_tb['checkin_time'],\n",
    "        format='%Y-%m-%d%H:%M:%S'\n",
    "    )\n",
    "\n",
    "reserve_tb['reserve_datetime'].dt.year - reserve_tb['checkin_datetime'].dt.year"
   ]
  },
  {
   "cell_type": "code",
   "execution_count": 20,
   "metadata": {},
   "outputs": [
    {
     "data": {
      "text/plain": [
       "0       0\n",
       "1       0\n",
       "2      -1\n",
       "3       0\n",
       "4       0\n",
       "       ..\n",
       "4025   -1\n",
       "4026   -1\n",
       "4027   -1\n",
       "4028   -1\n",
       "4029   -1\n",
       "Length: 4030, dtype: int64"
      ]
     },
     "execution_count": 20,
     "metadata": {},
     "output_type": "execute_result"
    }
   ],
   "source": [
    "(reserve_tb['reserve_datetime'].dt.year * 12 +\n",
    " reserve_tb['reserve_datetime'].dt.month) \\\n",
    " - (reserve_tb['checkin_datetime'].dt.year * 12 +\n",
    "    reserve_tb['checkin_datetime'].dt.month)"
   ]
  },
  {
   "cell_type": "code",
   "execution_count": 21,
   "metadata": {},
   "outputs": [
    {
     "data": {
      "text/plain": [
       "0      -20.0\n",
       "1       -4.0\n",
       "2      -25.0\n",
       "3      -22.0\n",
       "4      -17.0\n",
       "        ... \n",
       "4025   -13.0\n",
       "4026   -11.0\n",
       "4027   -20.0\n",
       "4028   -24.0\n",
       "4029   -31.0\n",
       "Length: 4030, dtype: float64"
      ]
     },
     "execution_count": 21,
     "metadata": {},
     "output_type": "execute_result"
    }
   ],
   "source": [
    "(reserve_tb['reserve_datetime'] - reserve_tb['checkin_datetime']) \\\n",
    "    .astype('timedelta64[D]')"
   ]
  },
  {
   "cell_type": "code",
   "execution_count": 22,
   "metadata": {},
   "outputs": [
    {
     "data": {
      "text/plain": [
       "0      -477.0\n",
       "1       -84.0\n",
       "2      -599.0\n",
       "3      -512.0\n",
       "4      -399.0\n",
       "        ...  \n",
       "4025   -299.0\n",
       "4026   -246.0\n",
       "4027   -463.0\n",
       "4028   -571.0\n",
       "4029   -721.0\n",
       "Length: 4030, dtype: float64"
      ]
     },
     "execution_count": 22,
     "metadata": {},
     "output_type": "execute_result"
    }
   ],
   "source": [
    "(reserve_tb['reserve_datetime'] - reserve_tb['checkin_datetime']) \\\n",
    "    .astype('timedelta64[h]')"
   ]
  },
  {
   "cell_type": "code",
   "execution_count": 23,
   "metadata": {},
   "outputs": [
    {
     "data": {
      "text/plain": [
       "0      -28611.0\n",
       "1       -5031.0\n",
       "2      -35937.0\n",
       "3      -30700.0\n",
       "4      -23920.0\n",
       "         ...   \n",
       "4025   -17910.0\n",
       "4026   -14706.0\n",
       "4027   -27749.0\n",
       "4028   -34210.0\n",
       "4029   -43244.0\n",
       "Length: 4030, dtype: float64"
      ]
     },
     "execution_count": 23,
     "metadata": {},
     "output_type": "execute_result"
    }
   ],
   "source": [
    "(reserve_tb['reserve_datetime'] - reserve_tb['checkin_datetime']) \\\n",
    "    .astype('timedelta64[m]')"
   ]
  },
  {
   "cell_type": "code",
   "execution_count": 24,
   "metadata": {},
   "outputs": [
    {
     "data": {
      "text/plain": [
       "0      -1716618.0\n",
       "1       -301805.0\n",
       "2      -2156203.0\n",
       "3      -1841990.0\n",
       "4      -1435163.0\n",
       "          ...    \n",
       "4025   -1074598.0\n",
       "4026    -882303.0\n",
       "4027   -1664895.0\n",
       "4028   -2052583.0\n",
       "4029   -2594589.0\n",
       "Length: 4030, dtype: float64"
      ]
     },
     "execution_count": 24,
     "metadata": {},
     "output_type": "execute_result"
    }
   ],
   "source": [
    "(reserve_tb['reserve_datetime'] - reserve_tb['checkin_datetime']) \\\n",
    "    .astype('timedelta64[s]')"
   ]
  },
  {
   "cell_type": "markdown",
   "metadata": {},
   "source": [
    "### 10.4. 일시형의 증감\n",
    "####  일시의 증감 처리"
   ]
  },
  {
   "cell_type": "code",
   "execution_count": 25,
   "metadata": {},
   "outputs": [],
   "source": [
    "import datetime"
   ]
  },
  {
   "cell_type": "code",
   "execution_count": 31,
   "metadata": {},
   "outputs": [],
   "source": [
    "reserve_tb['reserve_datetime'] = \\\n",
    "    pd.to_datetime(reserve_tb['reserve_datetime'], format='%Y-%m-%d %H:%M:%S')\n",
    "reserve_tb['reserve_date'] = reserve_tb['reserve_datetime'].dt.date"
   ]
  },
  {
   "cell_type": "code",
   "execution_count": 32,
   "metadata": {},
   "outputs": [
    {
     "data": {
      "text/plain": [
       "0      2016-03-07 13:09:42\n",
       "1      2016-07-17 23:39:55\n",
       "2      2016-09-25 10:03:17\n",
       "3      2017-03-09 03:20:10\n",
       "4      2017-09-06 19:50:37\n",
       "               ...        \n",
       "4025   2017-06-28 23:00:02\n",
       "4026   2017-09-30 05:24:57\n",
       "4027   2018-03-15 05:01:45\n",
       "4028   2016-04-17 15:20:17\n",
       "4029   2016-06-07 08:16:51\n",
       "Name: reserve_datetime, Length: 4030, dtype: datetime64[ns]"
      ]
     },
     "execution_count": 32,
     "metadata": {},
     "output_type": "execute_result"
    }
   ],
   "source": [
    "reserve_tb['reserve_datetime'] + datetime.timedelta(days=1)"
   ]
  },
  {
   "cell_type": "code",
   "execution_count": 30,
   "metadata": {},
   "outputs": [
    {
     "data": {
      "text/plain": [
       "0       2016-03-07\n",
       "1       2016-07-17\n",
       "2       2016-09-25\n",
       "3       2017-03-09\n",
       "4       2017-09-06\n",
       "           ...    \n",
       "4025    2017-06-28\n",
       "4026    2017-09-30\n",
       "4027    2018-03-15\n",
       "4028    2016-04-17\n",
       "4029    2016-06-07\n",
       "Name: reserve_date, Length: 4030, dtype: object"
      ]
     },
     "execution_count": 30,
     "metadata": {},
     "output_type": "execute_result"
    }
   ],
   "source": [
    "reserve_tb['reserve_date'] + datetime.timedelta(days=1)"
   ]
  },
  {
   "cell_type": "code",
   "execution_count": 33,
   "metadata": {},
   "outputs": [
    {
     "data": {
      "text/plain": [
       "0      2016-03-06 14:09:42\n",
       "1      2016-07-17 00:39:55\n",
       "2      2016-09-24 11:03:17\n",
       "3      2017-03-08 04:20:10\n",
       "4      2017-09-05 20:50:37\n",
       "               ...        \n",
       "4025   2017-06-28 00:00:02\n",
       "4026   2017-09-29 06:24:57\n",
       "4027   2018-03-14 06:01:45\n",
       "4028   2016-04-16 16:20:17\n",
       "4029   2016-06-06 09:16:51\n",
       "Name: reserve_datetime, Length: 4030, dtype: datetime64[ns]"
      ]
     },
     "execution_count": 33,
     "metadata": {},
     "output_type": "execute_result"
    }
   ],
   "source": [
    "reserve_tb['reserve_datetime'] + datetime.timedelta(hours=1)"
   ]
  },
  {
   "cell_type": "code",
   "execution_count": 34,
   "metadata": {},
   "outputs": [
    {
     "data": {
      "text/plain": [
       "0      2016-03-06 13:10:42\n",
       "1      2016-07-16 23:40:55\n",
       "2      2016-09-24 10:04:17\n",
       "3      2017-03-08 03:21:10\n",
       "4      2017-09-05 19:51:37\n",
       "               ...        \n",
       "4025   2017-06-27 23:01:02\n",
       "4026   2017-09-29 05:25:57\n",
       "4027   2018-03-14 05:02:45\n",
       "4028   2016-04-16 15:21:17\n",
       "4029   2016-06-06 08:17:51\n",
       "Name: reserve_datetime, Length: 4030, dtype: datetime64[ns]"
      ]
     },
     "execution_count": 34,
     "metadata": {},
     "output_type": "execute_result"
    }
   ],
   "source": [
    "reserve_tb['reserve_datetime'] + datetime.timedelta(minutes=1)"
   ]
  },
  {
   "cell_type": "code",
   "execution_count": 35,
   "metadata": {},
   "outputs": [
    {
     "data": {
      "text/plain": [
       "0      2016-03-06 13:09:43\n",
       "1      2016-07-16 23:39:56\n",
       "2      2016-09-24 10:03:18\n",
       "3      2017-03-08 03:20:11\n",
       "4      2017-09-05 19:50:38\n",
       "               ...        \n",
       "4025   2017-06-27 23:00:03\n",
       "4026   2017-09-29 05:24:58\n",
       "4027   2018-03-14 05:01:46\n",
       "4028   2016-04-16 15:20:18\n",
       "4029   2016-06-06 08:16:52\n",
       "Name: reserve_datetime, Length: 4030, dtype: datetime64[ns]"
      ]
     },
     "execution_count": 35,
     "metadata": {},
     "output_type": "execute_result"
    }
   ],
   "source": [
    "reserve_tb['reserve_datetime'] + datetime.timedelta(seconds=1)"
   ]
  },
  {
   "cell_type": "markdown",
   "metadata": {},
   "source": [
    "### 10.5. 계절로 변환\n",
    "- 월로 변환하면 변주가 너무 많을 수 있다\n",
    "- 그렇다고 마냥 계절로 변환하는 것이 좋은 것은 아니다\n",
    " - 계절보다 기온 등의 정보가 더 정확할 수 있다\n",
    "\n",
    "#### 계절로 변환"
   ]
  },
  {
   "cell_type": "code",
   "execution_count": 40,
   "metadata": {},
   "outputs": [
    {
     "data": {
      "text/html": [
       "<div>\n",
       "<style scoped>\n",
       "    .dataframe tbody tr th:only-of-type {\n",
       "        vertical-align: middle;\n",
       "    }\n",
       "\n",
       "    .dataframe tbody tr th {\n",
       "        vertical-align: top;\n",
       "    }\n",
       "\n",
       "    .dataframe thead th {\n",
       "        text-align: right;\n",
       "    }\n",
       "</style>\n",
       "<table border=\"1\" class=\"dataframe\">\n",
       "  <thead>\n",
       "    <tr style=\"text-align: right;\">\n",
       "      <th></th>\n",
       "      <th>reserve_datetime</th>\n",
       "      <th>reserve_season</th>\n",
       "    </tr>\n",
       "  </thead>\n",
       "  <tbody>\n",
       "    <tr>\n",
       "      <td>0</td>\n",
       "      <td>2016-03-06 13:09:42</td>\n",
       "      <td>spring</td>\n",
       "    </tr>\n",
       "    <tr>\n",
       "      <td>1</td>\n",
       "      <td>2016-07-16 23:39:55</td>\n",
       "      <td>summer</td>\n",
       "    </tr>\n",
       "    <tr>\n",
       "      <td>2</td>\n",
       "      <td>2016-09-24 10:03:17</td>\n",
       "      <td>autumn</td>\n",
       "    </tr>\n",
       "    <tr>\n",
       "      <td>3</td>\n",
       "      <td>2017-03-08 03:20:10</td>\n",
       "      <td>spring</td>\n",
       "    </tr>\n",
       "    <tr>\n",
       "      <td>4</td>\n",
       "      <td>2017-09-05 19:50:37</td>\n",
       "      <td>autumn</td>\n",
       "    </tr>\n",
       "    <tr>\n",
       "      <td>...</td>\n",
       "      <td>...</td>\n",
       "      <td>...</td>\n",
       "    </tr>\n",
       "    <tr>\n",
       "      <td>4025</td>\n",
       "      <td>2017-06-27 23:00:02</td>\n",
       "      <td>summer</td>\n",
       "    </tr>\n",
       "    <tr>\n",
       "      <td>4026</td>\n",
       "      <td>2017-09-29 05:24:57</td>\n",
       "      <td>autumn</td>\n",
       "    </tr>\n",
       "    <tr>\n",
       "      <td>4027</td>\n",
       "      <td>2018-03-14 05:01:45</td>\n",
       "      <td>spring</td>\n",
       "    </tr>\n",
       "    <tr>\n",
       "      <td>4028</td>\n",
       "      <td>2016-04-16 15:20:17</td>\n",
       "      <td>spring</td>\n",
       "    </tr>\n",
       "    <tr>\n",
       "      <td>4029</td>\n",
       "      <td>2016-06-06 08:16:51</td>\n",
       "      <td>summer</td>\n",
       "    </tr>\n",
       "  </tbody>\n",
       "</table>\n",
       "<p>4030 rows × 2 columns</p>\n",
       "</div>"
      ],
      "text/plain": [
       "        reserve_datetime reserve_season\n",
       "0    2016-03-06 13:09:42         spring\n",
       "1    2016-07-16 23:39:55         summer\n",
       "2    2016-09-24 10:03:17         autumn\n",
       "3    2017-03-08 03:20:10         spring\n",
       "4    2017-09-05 19:50:37         autumn\n",
       "...                  ...            ...\n",
       "4025 2017-06-27 23:00:02         summer\n",
       "4026 2017-09-29 05:24:57         autumn\n",
       "4027 2018-03-14 05:01:45         spring\n",
       "4028 2016-04-16 15:20:17         spring\n",
       "4029 2016-06-06 08:16:51         summer\n",
       "\n",
       "[4030 rows x 2 columns]"
      ]
     },
     "execution_count": 40,
     "metadata": {},
     "output_type": "execute_result"
    }
   ],
   "source": [
    "reserve_tb['reserve_datetime'] = pd.to_datetime(\n",
    "    reserve_tb['reserve_datetime'],\n",
    "    format='%Y-%m-%d %H:%M:%S'\n",
    ")\n",
    "\n",
    "def to_season(month_num):\n",
    "    season = 'winter'\n",
    "    if 3 <= month_num <= 5:\n",
    "        season = 'spring'\n",
    "    elif 6 <= month_num <= 8:\n",
    "        season = 'summer'\n",
    "    elif 9 <= month_num <= 11:\n",
    "        season = 'autumn'\n",
    "        \n",
    "    return season\n",
    "\n",
    "reserve_tb['reserve_season'] = pd.Categorical(\n",
    "    reserve_tb['reserve_datetime'].dt.month.apply(to_season),\n",
    "    categories=['spring', 'summer', 'autumn', 'winter']\n",
    ")\n",
    "\n",
    "reserve_tb[['reserve_datetime', 'reserve_season']]"
   ]
  },
  {
   "cell_type": "markdown",
   "metadata": {},
   "source": [
    "### 10.6. 시간대로 변환\n",
    "- 24종류의 범주값이 생김\n",
    "- 24시간을 나눌지 아침/점심/저녁으로 나눌지 등등 상황에 따라 잘 판단해야 함\n",
    "\n",
    "### 10.7. 평일과 휴일로 변환\n",
    "- 휴일, 휴일 전날, 연휴, 연휴 사이의 평일 등을 구분해야 한다.\n",
    "\n",
    "#### 휴일 플래그 부여"
   ]
  },
  {
   "cell_type": "code",
   "execution_count": 42,
   "metadata": {},
   "outputs": [
    {
     "data": {
      "text/html": [
       "<div>\n",
       "<style scoped>\n",
       "    .dataframe tbody tr th:only-of-type {\n",
       "        vertical-align: middle;\n",
       "    }\n",
       "\n",
       "    .dataframe tbody tr th {\n",
       "        vertical-align: top;\n",
       "    }\n",
       "\n",
       "    .dataframe thead th {\n",
       "        text-align: right;\n",
       "    }\n",
       "</style>\n",
       "<table border=\"1\" class=\"dataframe\">\n",
       "  <thead>\n",
       "    <tr style=\"text-align: right;\">\n",
       "      <th></th>\n",
       "      <th>reserve_id</th>\n",
       "      <th>hotel_id</th>\n",
       "      <th>customer_id</th>\n",
       "      <th>reserve_datetime</th>\n",
       "      <th>checkin_date</th>\n",
       "      <th>checkin_time</th>\n",
       "      <th>checkout_date</th>\n",
       "      <th>people_num</th>\n",
       "      <th>total_price</th>\n",
       "      <th>checkin_datetime</th>\n",
       "      <th>reserve_date</th>\n",
       "      <th>reserve_season</th>\n",
       "      <th>target_day</th>\n",
       "      <th>holidayday_flg</th>\n",
       "      <th>nextday_is_holiday_flg</th>\n",
       "    </tr>\n",
       "  </thead>\n",
       "  <tbody>\n",
       "    <tr>\n",
       "      <td>0</td>\n",
       "      <td>r1</td>\n",
       "      <td>h_75</td>\n",
       "      <td>c_1</td>\n",
       "      <td>2016-03-06 13:09:42</td>\n",
       "      <td>2016-03-26</td>\n",
       "      <td>10:00:00</td>\n",
       "      <td>2016-03-29</td>\n",
       "      <td>4</td>\n",
       "      <td>97200</td>\n",
       "      <td>2016-03-26 10:00:00</td>\n",
       "      <td>2016-03-06</td>\n",
       "      <td>spring</td>\n",
       "      <td>2016-03-26</td>\n",
       "      <td>True</td>\n",
       "      <td>True</td>\n",
       "    </tr>\n",
       "    <tr>\n",
       "      <td>1</td>\n",
       "      <td>r1269</td>\n",
       "      <td>h_138</td>\n",
       "      <td>c_309</td>\n",
       "      <td>2016-03-14 13:57:45</td>\n",
       "      <td>2016-03-26</td>\n",
       "      <td>11:30:00</td>\n",
       "      <td>2016-03-29</td>\n",
       "      <td>4</td>\n",
       "      <td>115200</td>\n",
       "      <td>2016-03-26 11:30:00</td>\n",
       "      <td>2016-03-14</td>\n",
       "      <td>spring</td>\n",
       "      <td>2016-03-26</td>\n",
       "      <td>True</td>\n",
       "      <td>True</td>\n",
       "    </tr>\n",
       "    <tr>\n",
       "      <td>2</td>\n",
       "      <td>r2192</td>\n",
       "      <td>h_267</td>\n",
       "      <td>c_547</td>\n",
       "      <td>2016-03-21 09:23:13</td>\n",
       "      <td>2016-03-26</td>\n",
       "      <td>11:00:00</td>\n",
       "      <td>2016-03-27</td>\n",
       "      <td>2</td>\n",
       "      <td>19600</td>\n",
       "      <td>2016-03-26 11:00:00</td>\n",
       "      <td>2016-03-21</td>\n",
       "      <td>spring</td>\n",
       "      <td>2016-03-26</td>\n",
       "      <td>True</td>\n",
       "      <td>True</td>\n",
       "    </tr>\n",
       "    <tr>\n",
       "      <td>3</td>\n",
       "      <td>r2288</td>\n",
       "      <td>h_144</td>\n",
       "      <td>c_574</td>\n",
       "      <td>2016-03-05 23:44:17</td>\n",
       "      <td>2016-03-26</td>\n",
       "      <td>12:30:00</td>\n",
       "      <td>2016-03-28</td>\n",
       "      <td>3</td>\n",
       "      <td>60000</td>\n",
       "      <td>2016-03-26 12:30:00</td>\n",
       "      <td>2016-03-05</td>\n",
       "      <td>spring</td>\n",
       "      <td>2016-03-26</td>\n",
       "      <td>True</td>\n",
       "      <td>True</td>\n",
       "    </tr>\n",
       "    <tr>\n",
       "      <td>4</td>\n",
       "      <td>r2987</td>\n",
       "      <td>h_230</td>\n",
       "      <td>c_754</td>\n",
       "      <td>2016-03-21 07:00:01</td>\n",
       "      <td>2016-03-26</td>\n",
       "      <td>10:00:00</td>\n",
       "      <td>2016-03-27</td>\n",
       "      <td>2</td>\n",
       "      <td>34800</td>\n",
       "      <td>2016-03-26 10:00:00</td>\n",
       "      <td>2016-03-21</td>\n",
       "      <td>spring</td>\n",
       "      <td>2016-03-26</td>\n",
       "      <td>True</td>\n",
       "      <td>True</td>\n",
       "    </tr>\n",
       "    <tr>\n",
       "      <td>...</td>\n",
       "      <td>...</td>\n",
       "      <td>...</td>\n",
       "      <td>...</td>\n",
       "      <td>...</td>\n",
       "      <td>...</td>\n",
       "      <td>...</td>\n",
       "      <td>...</td>\n",
       "      <td>...</td>\n",
       "      <td>...</td>\n",
       "      <td>...</td>\n",
       "      <td>...</td>\n",
       "      <td>...</td>\n",
       "      <td>...</td>\n",
       "      <td>...</td>\n",
       "      <td>...</td>\n",
       "    </tr>\n",
       "    <tr>\n",
       "      <td>4025</td>\n",
       "      <td>r3904</td>\n",
       "      <td>h_240</td>\n",
       "      <td>c_970</td>\n",
       "      <td>2018-04-10 10:01:59</td>\n",
       "      <td>2018-04-10</td>\n",
       "      <td>12:00:00</td>\n",
       "      <td>2018-04-13</td>\n",
       "      <td>4</td>\n",
       "      <td>320400</td>\n",
       "      <td>2018-04-10 12:00:00</td>\n",
       "      <td>2018-04-10</td>\n",
       "      <td>spring</td>\n",
       "      <td>2018-04-10</td>\n",
       "      <td>False</td>\n",
       "      <td>False</td>\n",
       "    </tr>\n",
       "    <tr>\n",
       "      <td>4026</td>\n",
       "      <td>r3905</td>\n",
       "      <td>h_230</td>\n",
       "      <td>c_970</td>\n",
       "      <td>2018-07-02 01:37:45</td>\n",
       "      <td>2018-07-24</td>\n",
       "      <td>12:30:00</td>\n",
       "      <td>2018-07-25</td>\n",
       "      <td>3</td>\n",
       "      <td>52200</td>\n",
       "      <td>2018-07-24 12:30:00</td>\n",
       "      <td>2018-07-02</td>\n",
       "      <td>summer</td>\n",
       "      <td>2018-07-24</td>\n",
       "      <td>False</td>\n",
       "      <td>False</td>\n",
       "    </tr>\n",
       "    <tr>\n",
       "      <td>4027</td>\n",
       "      <td>r3936</td>\n",
       "      <td>h_46</td>\n",
       "      <td>c_979</td>\n",
       "      <td>2018-09-10 05:48:22</td>\n",
       "      <td>2018-10-02</td>\n",
       "      <td>12:00:00</td>\n",
       "      <td>2018-10-05</td>\n",
       "      <td>3</td>\n",
       "      <td>166500</td>\n",
       "      <td>2018-10-02 12:00:00</td>\n",
       "      <td>2018-09-10</td>\n",
       "      <td>autumn</td>\n",
       "      <td>2018-10-02</td>\n",
       "      <td>False</td>\n",
       "      <td>False</td>\n",
       "    </tr>\n",
       "    <tr>\n",
       "      <td>4028</td>\n",
       "      <td>r3959</td>\n",
       "      <td>h_93</td>\n",
       "      <td>c_983</td>\n",
       "      <td>2018-02-16 11:01:40</td>\n",
       "      <td>2018-03-15</td>\n",
       "      <td>11:00:00</td>\n",
       "      <td>2018-03-17</td>\n",
       "      <td>3</td>\n",
       "      <td>58800</td>\n",
       "      <td>2018-03-15 11:00:00</td>\n",
       "      <td>2018-02-16</td>\n",
       "      <td>winter</td>\n",
       "      <td>2018-03-15</td>\n",
       "      <td>False</td>\n",
       "      <td>False</td>\n",
       "    </tr>\n",
       "    <tr>\n",
       "      <td>4029</td>\n",
       "      <td>r4020</td>\n",
       "      <td>h_243</td>\n",
       "      <td>c_996</td>\n",
       "      <td>2018-04-22 20:41:29</td>\n",
       "      <td>2018-05-21</td>\n",
       "      <td>12:00:00</td>\n",
       "      <td>2018-05-22</td>\n",
       "      <td>2</td>\n",
       "      <td>55400</td>\n",
       "      <td>2018-05-21 12:00:00</td>\n",
       "      <td>2018-04-22</td>\n",
       "      <td>spring</td>\n",
       "      <td>2018-05-21</td>\n",
       "      <td>False</td>\n",
       "      <td>False</td>\n",
       "    </tr>\n",
       "  </tbody>\n",
       "</table>\n",
       "<p>4030 rows × 15 columns</p>\n",
       "</div>"
      ],
      "text/plain": [
       "     reserve_id hotel_id customer_id    reserve_datetime checkin_date  \\\n",
       "0            r1     h_75         c_1 2016-03-06 13:09:42   2016-03-26   \n",
       "1         r1269    h_138       c_309 2016-03-14 13:57:45   2016-03-26   \n",
       "2         r2192    h_267       c_547 2016-03-21 09:23:13   2016-03-26   \n",
       "3         r2288    h_144       c_574 2016-03-05 23:44:17   2016-03-26   \n",
       "4         r2987    h_230       c_754 2016-03-21 07:00:01   2016-03-26   \n",
       "...         ...      ...         ...                 ...          ...   \n",
       "4025      r3904    h_240       c_970 2018-04-10 10:01:59   2018-04-10   \n",
       "4026      r3905    h_230       c_970 2018-07-02 01:37:45   2018-07-24   \n",
       "4027      r3936     h_46       c_979 2018-09-10 05:48:22   2018-10-02   \n",
       "4028      r3959     h_93       c_983 2018-02-16 11:01:40   2018-03-15   \n",
       "4029      r4020    h_243       c_996 2018-04-22 20:41:29   2018-05-21   \n",
       "\n",
       "     checkin_time checkout_date  people_num  total_price    checkin_datetime  \\\n",
       "0        10:00:00    2016-03-29           4        97200 2016-03-26 10:00:00   \n",
       "1        11:30:00    2016-03-29           4       115200 2016-03-26 11:30:00   \n",
       "2        11:00:00    2016-03-27           2        19600 2016-03-26 11:00:00   \n",
       "3        12:30:00    2016-03-28           3        60000 2016-03-26 12:30:00   \n",
       "4        10:00:00    2016-03-27           2        34800 2016-03-26 10:00:00   \n",
       "...           ...           ...         ...          ...                 ...   \n",
       "4025     12:00:00    2018-04-13           4       320400 2018-04-10 12:00:00   \n",
       "4026     12:30:00    2018-07-25           3        52200 2018-07-24 12:30:00   \n",
       "4027     12:00:00    2018-10-05           3       166500 2018-10-02 12:00:00   \n",
       "4028     11:00:00    2018-03-17           3        58800 2018-03-15 11:00:00   \n",
       "4029     12:00:00    2018-05-22           2        55400 2018-05-21 12:00:00   \n",
       "\n",
       "     reserve_date reserve_season  target_day  holidayday_flg  \\\n",
       "0      2016-03-06         spring  2016-03-26            True   \n",
       "1      2016-03-14         spring  2016-03-26            True   \n",
       "2      2016-03-21         spring  2016-03-26            True   \n",
       "3      2016-03-05         spring  2016-03-26            True   \n",
       "4      2016-03-21         spring  2016-03-26            True   \n",
       "...           ...            ...         ...             ...   \n",
       "4025   2018-04-10         spring  2018-04-10           False   \n",
       "4026   2018-07-02         summer  2018-07-24           False   \n",
       "4027   2018-09-10         autumn  2018-10-02           False   \n",
       "4028   2018-02-16         winter  2018-03-15           False   \n",
       "4029   2018-04-22         spring  2018-05-21           False   \n",
       "\n",
       "      nextday_is_holiday_flg  \n",
       "0                       True  \n",
       "1                       True  \n",
       "2                       True  \n",
       "3                       True  \n",
       "4                       True  \n",
       "...                      ...  \n",
       "4025                   False  \n",
       "4026                   False  \n",
       "4027                   False  \n",
       "4028                   False  \n",
       "4029                   False  \n",
       "\n",
       "[4030 rows x 15 columns]"
      ]
     },
     "execution_count": 42,
     "metadata": {},
     "output_type": "execute_result"
    }
   ],
   "source": [
    "pd.merge(\n",
    "    reserve_tb,\n",
    "    holiday_mst,\n",
    "    left_on='checkin_date',\n",
    "    right_on='target_day'\n",
    ")"
   ]
  }
 ],
 "metadata": {
  "kernelspec": {
   "display_name": "Python 3",
   "language": "python",
   "name": "python3"
  },
  "language_info": {
   "codemirror_mode": {
    "name": "ipython",
    "version": 3
   },
   "file_extension": ".py",
   "mimetype": "text/x-python",
   "name": "python",
   "nbconvert_exporter": "python",
   "pygments_lexer": "ipython3",
   "version": "3.7.4"
  }
 },
 "nbformat": 4,
 "nbformat_minor": 2
}
